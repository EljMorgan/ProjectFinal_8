{
 "cells": [
  {
   "cell_type": "code",
   "execution_count": 1,
   "metadata": {},
   "outputs": [],
   "source": [
    "import pandas as pd\n",
    "import nltk\n",
    "from gensim.models import Word2Vec\n",
    "from sklearn.feature_extraction.text import TfidfVectorizer\n",
    "from sklearn.metrics.pairwise import cosine_similarity\n",
    "from wordcloud import WordCloud\n",
    "import matplotlib.pyplot as plt\n",
    "from sklearn.decomposition import TruncatedSVD\n",
    "from nltk.stem import PorterStemmer\n",
    "from nltk.tokenize import word_tokenize\n",
    "\n",
    "import warnings\n",
    "warnings.filterwarnings('ignore')"
   ]
  },
  {
   "cell_type": "code",
   "execution_count": 2,
   "metadata": {},
   "outputs": [],
   "source": [
    "recipes = pd.read_csv('secret/csv_for_mySQL/recipe_with_discr.csv')"
   ]
  },
  {
   "cell_type": "code",
   "execution_count": 26,
   "metadata": {},
   "outputs": [
    {
     "data": {
      "text/plain": [
       "Index(['name', 'id', 'minutes', 'submitted', 'n_steps', 'steps', 'description',\n",
       "       'ingredients', 'n_ingredients', 'calories', 'total fat', 'sugar',\n",
       "       'sodium', 'protein', 'saturated fat', 'carbohydrates', 'food_types',\n",
       "       'rating'],\n",
       "      dtype='object')"
      ]
     },
     "execution_count": 26,
     "metadata": {},
     "output_type": "execute_result"
    }
   ],
   "source": [
    "recipes.columns"
   ]
  },
  {
   "cell_type": "code",
   "execution_count": 39,
   "metadata": {},
   "outputs": [
    {
     "data": {
      "text/plain": [
       "name                0\n",
       "id                  0\n",
       "minutes             0\n",
       "submitted           0\n",
       "n_steps             0\n",
       "steps               0\n",
       "description      4978\n",
       "ingredients         0\n",
       "n_ingredients       0\n",
       "calories            0\n",
       "total fat           0\n",
       "sugar               0\n",
       "sodium              0\n",
       "protein             0\n",
       "saturated fat       0\n",
       "carbohydrates       0\n",
       "food_types          0\n",
       "rating              0\n",
       "dtype: int64"
      ]
     },
     "execution_count": 39,
     "metadata": {},
     "output_type": "execute_result"
    }
   ],
   "source": [
    "recipes.isna().sum()"
   ]
  },
  {
   "cell_type": "code",
   "execution_count": 3,
   "metadata": {},
   "outputs": [],
   "source": [
    "recipes_dropped = recipes[recipes['description'].notna()]\n"
   ]
  },
  {
   "cell_type": "code",
   "execution_count": 4,
   "metadata": {},
   "outputs": [
    {
     "data": {
      "text/plain": [
       "name             0\n",
       "id               0\n",
       "minutes          0\n",
       "submitted        0\n",
       "n_steps          0\n",
       "steps            0\n",
       "description      0\n",
       "ingredients      0\n",
       "n_ingredients    0\n",
       "calories         0\n",
       "total fat        0\n",
       "sugar            0\n",
       "sodium           0\n",
       "protein          0\n",
       "saturated fat    0\n",
       "carbohydrates    0\n",
       "food_types       0\n",
       "rating           0\n",
       "dtype: int64"
      ]
     },
     "execution_count": 4,
     "metadata": {},
     "output_type": "execute_result"
    }
   ],
   "source": [
    "recipes_dropped.isna().sum()"
   ]
  },
  {
   "cell_type": "code",
   "execution_count": 18,
   "metadata": {},
   "outputs": [],
   "source": [
    "recipes_dropped['ingredients'] = recipes_dropped['ingredients'].str.replace(',', ' ')"
   ]
  },
  {
   "cell_type": "code",
   "execution_count": 23,
   "metadata": {},
   "outputs": [
    {
     "data": {
      "text/html": [
       "<div>\n",
       "<style scoped>\n",
       "    .dataframe tbody tr th:only-of-type {\n",
       "        vertical-align: middle;\n",
       "    }\n",
       "\n",
       "    .dataframe tbody tr th {\n",
       "        vertical-align: top;\n",
       "    }\n",
       "\n",
       "    .dataframe thead th {\n",
       "        text-align: right;\n",
       "    }\n",
       "</style>\n",
       "<table border=\"1\" class=\"dataframe\">\n",
       "  <thead>\n",
       "    <tr style=\"text-align: right;\">\n",
       "      <th></th>\n",
       "      <th>name</th>\n",
       "      <th>id</th>\n",
       "      <th>minutes</th>\n",
       "      <th>submitted</th>\n",
       "      <th>n_steps</th>\n",
       "      <th>steps</th>\n",
       "      <th>description</th>\n",
       "      <th>ingredients</th>\n",
       "      <th>n_ingredients</th>\n",
       "      <th>calories</th>\n",
       "      <th>total fat</th>\n",
       "      <th>sugar</th>\n",
       "      <th>sodium</th>\n",
       "      <th>protein</th>\n",
       "      <th>saturated fat</th>\n",
       "      <th>carbohydrates</th>\n",
       "      <th>food_types</th>\n",
       "      <th>rating</th>\n",
       "    </tr>\n",
       "  </thead>\n",
       "  <tbody>\n",
       "    <tr>\n",
       "      <th>0</th>\n",
       "      <td>arriba   baked winter squash mexican style</td>\n",
       "      <td>137739</td>\n",
       "      <td>55</td>\n",
       "      <td>2005-09-16</td>\n",
       "      <td>11</td>\n",
       "      <td>1. make a choice and proceed with recipe 2. de...</td>\n",
       "      <td>autumn is my favorite time of year to cook! th...</td>\n",
       "      <td>winter squash  mexican seasoning  mixed spice ...</td>\n",
       "      <td>7</td>\n",
       "      <td>51.5</td>\n",
       "      <td>0.0</td>\n",
       "      <td>13.0</td>\n",
       "      <td>0.0</td>\n",
       "      <td>2.0</td>\n",
       "      <td>0.0</td>\n",
       "      <td>4.0</td>\n",
       "      <td>Gluten-Free, Low-calories</td>\n",
       "      <td>5.0</td>\n",
       "    </tr>\n",
       "    <tr>\n",
       "      <th>1</th>\n",
       "      <td>a bit different  breakfast pizza</td>\n",
       "      <td>31490</td>\n",
       "      <td>30</td>\n",
       "      <td>2002-06-17</td>\n",
       "      <td>9</td>\n",
       "      <td>1. preheat oven to 425 degrees f 2. press doug...</td>\n",
       "      <td>this recipe calls for the crust to be prebaked...</td>\n",
       "      <td>prepared pizza crust  sausage patty  eggs  mil...</td>\n",
       "      <td>6</td>\n",
       "      <td>173.4</td>\n",
       "      <td>18.0</td>\n",
       "      <td>0.0</td>\n",
       "      <td>17.0</td>\n",
       "      <td>22.0</td>\n",
       "      <td>35.0</td>\n",
       "      <td>1.0</td>\n",
       "      <td>Gluten-Free, Low-calories</td>\n",
       "      <td>3.5</td>\n",
       "    </tr>\n",
       "    <tr>\n",
       "      <th>2</th>\n",
       "      <td>all in the kitchen  chili</td>\n",
       "      <td>112140</td>\n",
       "      <td>130</td>\n",
       "      <td>2005-02-25</td>\n",
       "      <td>6</td>\n",
       "      <td>1. brown ground beef in large pot 2. add chopp...</td>\n",
       "      <td>this modified version of 'mom's' chili was a h...</td>\n",
       "      <td>ground beef  yellow onions  diced tomatoes  to...</td>\n",
       "      <td>13</td>\n",
       "      <td>269.8</td>\n",
       "      <td>22.0</td>\n",
       "      <td>32.0</td>\n",
       "      <td>48.0</td>\n",
       "      <td>39.0</td>\n",
       "      <td>27.0</td>\n",
       "      <td>5.0</td>\n",
       "      <td>Gluten-Free, Low-calories</td>\n",
       "      <td>4.0</td>\n",
       "    </tr>\n",
       "    <tr>\n",
       "      <th>3</th>\n",
       "      <td>alouette  potatoes</td>\n",
       "      <td>59389</td>\n",
       "      <td>45</td>\n",
       "      <td>2003-04-14</td>\n",
       "      <td>11</td>\n",
       "      <td>1. place potatoes in a large pot of lightly sa...</td>\n",
       "      <td>this is a super easy, great tasting, make ahea...</td>\n",
       "      <td>spreadable cheese with garlic and herbs  new p...</td>\n",
       "      <td>11</td>\n",
       "      <td>368.1</td>\n",
       "      <td>17.0</td>\n",
       "      <td>10.0</td>\n",
       "      <td>2.0</td>\n",
       "      <td>14.0</td>\n",
       "      <td>8.0</td>\n",
       "      <td>20.0</td>\n",
       "      <td>Gluten-Free</td>\n",
       "      <td>4.5</td>\n",
       "    </tr>\n",
       "    <tr>\n",
       "      <th>4</th>\n",
       "      <td>amish  tomato ketchup  for canning</td>\n",
       "      <td>44061</td>\n",
       "      <td>190</td>\n",
       "      <td>2002-10-25</td>\n",
       "      <td>5</td>\n",
       "      <td>1. mix all ingredients&amp; boil for 2 1  2 hours ...</td>\n",
       "      <td>my dh's amish mother raised him on this recipe...</td>\n",
       "      <td>tomato juice  apple cider vinegar  sugar  salt...</td>\n",
       "      <td>8</td>\n",
       "      <td>352.9</td>\n",
       "      <td>1.0</td>\n",
       "      <td>337.0</td>\n",
       "      <td>23.0</td>\n",
       "      <td>3.0</td>\n",
       "      <td>0.0</td>\n",
       "      <td>28.0</td>\n",
       "      <td>Gluten-Free</td>\n",
       "      <td>5.0</td>\n",
       "    </tr>\n",
       "  </tbody>\n",
       "</table>\n",
       "</div>"
      ],
      "text/plain": [
       "                                         name      id  minutes   submitted  \\\n",
       "0  arriba   baked winter squash mexican style  137739       55  2005-09-16   \n",
       "1            a bit different  breakfast pizza   31490       30  2002-06-17   \n",
       "2                   all in the kitchen  chili  112140      130  2005-02-25   \n",
       "3                          alouette  potatoes   59389       45  2003-04-14   \n",
       "4          amish  tomato ketchup  for canning   44061      190  2002-10-25   \n",
       "\n",
       "   n_steps                                              steps  \\\n",
       "0       11  1. make a choice and proceed with recipe 2. de...   \n",
       "1        9  1. preheat oven to 425 degrees f 2. press doug...   \n",
       "2        6  1. brown ground beef in large pot 2. add chopp...   \n",
       "3       11  1. place potatoes in a large pot of lightly sa...   \n",
       "4        5  1. mix all ingredients& boil for 2 1  2 hours ...   \n",
       "\n",
       "                                         description  \\\n",
       "0  autumn is my favorite time of year to cook! th...   \n",
       "1  this recipe calls for the crust to be prebaked...   \n",
       "2  this modified version of 'mom's' chili was a h...   \n",
       "3  this is a super easy, great tasting, make ahea...   \n",
       "4  my dh's amish mother raised him on this recipe...   \n",
       "\n",
       "                                         ingredients  n_ingredients  calories  \\\n",
       "0  winter squash  mexican seasoning  mixed spice ...              7      51.5   \n",
       "1  prepared pizza crust  sausage patty  eggs  mil...              6     173.4   \n",
       "2  ground beef  yellow onions  diced tomatoes  to...             13     269.8   \n",
       "3  spreadable cheese with garlic and herbs  new p...             11     368.1   \n",
       "4  tomato juice  apple cider vinegar  sugar  salt...              8     352.9   \n",
       "\n",
       "   total fat  sugar  sodium  protein  saturated fat  carbohydrates  \\\n",
       "0        0.0   13.0     0.0      2.0            0.0            4.0   \n",
       "1       18.0    0.0    17.0     22.0           35.0            1.0   \n",
       "2       22.0   32.0    48.0     39.0           27.0            5.0   \n",
       "3       17.0   10.0     2.0     14.0            8.0           20.0   \n",
       "4        1.0  337.0    23.0      3.0            0.0           28.0   \n",
       "\n",
       "                  food_types  rating  \n",
       "0  Gluten-Free, Low-calories     5.0  \n",
       "1  Gluten-Free, Low-calories     3.5  \n",
       "2  Gluten-Free, Low-calories     4.0  \n",
       "3                Gluten-Free     4.5  \n",
       "4                Gluten-Free     5.0  "
      ]
     },
     "execution_count": 23,
     "metadata": {},
     "output_type": "execute_result"
    }
   ],
   "source": [
    "recipes.head()"
   ]
  },
  {
   "cell_type": "code",
   "execution_count": 19,
   "metadata": {},
   "outputs": [
    {
     "name": "stdout",
     "output_type": "stream",
     "text": [
      "salt,;94345\n",
      "pepper,;85954\n",
      "sugar,;80676\n",
      "fresh;75239\n",
      "oil,;72059\n",
      "ground;64643\n",
      "butter,;64077\n",
      "cheese,;58555\n",
      "flour,;55847\n",
      "onion,;55799\n",
      "garlic;52466\n",
      "powder,;48634\n",
      "olive;41719\n",
      "sauce,;40746\n",
      "red;39827\n",
      "water,;39349\n",
      "chicken;38725\n",
      "black;37459\n",
      "milk,;36952\n",
      "juice,;35271\n",
      "baking;34591\n",
      "eggs,;33683\n",
      "pepper;32468\n",
      "green;32392\n",
      "salt;31333\n",
      "cloves,;29549\n",
      "dried;29131\n",
      "white;28083\n",
      "lemon;27654\n",
      "brown;27052\n"
     ]
    }
   ],
   "source": [
    "word_freq= ''\n",
    "vocabulary = nltk.FreqDist()\n",
    "# This was done once I had already preprocessed the ingredients\n",
    "for ingredients in recipes['ingredients']:\n",
    "    ingredients = ingredients.split()\n",
    "    vocabulary.update(ingredients)\n",
    "for word, frequency in vocabulary.most_common(30):\n",
    "    word_freq += (word + ' ')\n",
    "    print(f'{word};{frequency}')\n"
   ]
  },
  {
   "cell_type": "code",
   "execution_count": 22,
   "metadata": {},
   "outputs": [
    {
     "data": {
      "image/png": "[encoded data removed]",
      "text/plain": [
       "<Figure size 800x800 with 1 Axes>"
      ]
     },
     "metadata": {},
     "output_type": "display_data"
    }
   ],
   "source": [
    "wordcloud = WordCloud(width=800, height=400, background_color='green').generate(word_freq)\n",
    "\n",
    "plt.figure(figsize=(8,8), facecolor=None)\n",
    "plt.imshow(wordcloud)\n",
    "plt.axis(\"off\")\n",
    "plt.tight_layout(pad=0)\n",
    "plt.show()\n"
   ]
  },
  {
   "attachments": {},
   "cell_type": "markdown",
   "metadata": {},
   "source": [
    "## Part I - Cosine similarity"
   ]
  },
  {
   "cell_type": "code",
   "execution_count": 20,
   "metadata": {},
   "outputs": [
    {
     "data": {
      "text/plain": [
       "Index(['name', 'id', 'minutes', 'submitted', 'n_steps', 'steps', 'description',\n",
       "       'ingredients', 'n_ingredients', 'calories', 'total fat', 'sugar',\n",
       "       'sodium', 'protein', 'saturated fat', 'carbohydrates', 'food_types',\n",
       "       'rating'],\n",
       "      dtype='object')"
      ]
     },
     "execution_count": 20,
     "metadata": {},
     "output_type": "execute_result"
    }
   ],
   "source": [
    "recipes_dropped.columns"
   ]
  },
  {
   "cell_type": "code",
   "execution_count": 24,
   "metadata": {},
   "outputs": [],
   "source": [
    "# Select the columns of interest\n",
    "#recipe_df = recipes_dropped[['name', 'description', 'ingredients']]\n",
    "\n",
    "# Concatenate the columns into a single text column\n",
    "#recipe_df['text'] = recipe_df['name'] + ' ' + recipe_df['description'] + ' ' + recipe_df['ingredients']\n",
    "recipes_dropped['text'] = recipes_dropped['name'] + ' '+ recipes_dropped['ingredients'] + ' ' + recipes_dropped['description']\n",
    "\n",
    "# Replace any NaN values with an empty string\n",
    "recipes_dropped['text'] = recipes_dropped['text'].fillna('')"
   ]
  },
  {
   "cell_type": "code",
   "execution_count": 25,
   "metadata": {},
   "outputs": [],
   "source": [
    "import re\n",
    "\n",
    "# Define a custom tokenizer function to remove stop words\n",
    "def custom_tokenizer(text):\n",
    "    # Define a list of stop words\n",
    "    stop_words = [\"a\", \"all\",\"an\", \"bit\",\"the\", \"and\", \"or\", \"in\", \"on\", \"at\", \"to\", \"for\", \"with\", \"by\", \"of\", \"from\", \"as\", \"be\", \"was\", \"were\"]\n",
    "\n",
    "    # Split the text into words\n",
    "    words = re.findall(r'\\b\\w+\\b', text)\n",
    "\n",
    "    # Remove stop words\n",
    "    words = ' '.join(word for word in words if word not in stop_words) #join returns a string \n",
    "    return words"
   ]
  },
  {
   "cell_type": "code",
   "execution_count": 26,
   "metadata": {},
   "outputs": [],
   "source": [
    "recipes_dropped['text'] = recipes_dropped['text'].apply(custom_tokenizer)"
   ]
  },
  {
   "cell_type": "code",
   "execution_count": 27,
   "metadata": {},
   "outputs": [],
   "source": [
    "import random\n",
    "\n",
    "# Choose a subset of recipes\n",
    "subset_size = 15000\n",
    "subset_indices = random.sample(range(len(recipes_dropped)), subset_size)\n",
    "subset_recipe_df = recipes_dropped.iloc[subset_indices]"
   ]
  },
  {
   "cell_type": "code",
   "execution_count": 28,
   "metadata": {},
   "outputs": [],
   "source": [
    "# Create a TfidfVectorizer object to transform the text data\n",
    "vectorizer = TfidfVectorizer(stop_words='english', analyzer='word')\n",
    "\n",
    "# Transform the text data into a sparse matrix\n",
    "text_matrix = vectorizer.fit_transform(subset_recipe_df['text'])"
   ]
  },
  {
   "cell_type": "code",
   "execution_count": 26,
   "metadata": {},
   "outputs": [
    {
     "data": {
      "text/plain": [
       "(15000, 19453)"
      ]
     },
     "execution_count": 26,
     "metadata": {},
     "output_type": "execute_result"
    }
   ],
   "source": [
    "text_matrix.shape"
   ]
  },
  {
   "cell_type": "code",
   "execution_count": 27,
   "metadata": {},
   "outputs": [],
   "source": [
    "# Compute cosine similarity between all pairs of recipes\n",
    "cosine_sim = cosine_similarity(text_matrix)\n",
    "\n",
    "#8minutes run and error of memory capacity\n"
   ]
  },
  {
   "cell_type": "code",
   "execution_count": 28,
   "metadata": {},
   "outputs": [
    {
     "data": {
      "text/plain": [
       "15000"
      ]
     },
     "execution_count": 28,
     "metadata": {},
     "output_type": "execute_result"
    }
   ],
   "source": [
    "len(cosine_sim)"
   ]
  },
  {
   "cell_type": "code",
   "execution_count": 29,
   "metadata": {},
   "outputs": [
    {
     "data": {
      "text/plain": [
       "['pickles/cosine_sim15k.joblib']"
      ]
     },
     "execution_count": 29,
     "metadata": {},
     "output_type": "execute_result"
    }
   ],
   "source": [
    "import joblib\n",
    "joblib.dump(cosine_sim, 'pickles/cosine_sim15k.joblib')"
   ]
  },
  {
   "cell_type": "code",
   "execution_count": 13,
   "metadata": {},
   "outputs": [],
   "source": [
    "import pickle\n",
    "\n",
    "with open('pickles/cosine_sim.pkl', 'wb') as f:\n",
    "    pickle.dump(cosine_sim, f)"
   ]
  },
  {
   "attachments": {},
   "cell_type": "markdown",
   "metadata": {},
   "source": [
    "to load pickle\n",
    "with open ('pickles/cosine_sim.pkl', 'rb') as f:\n",
    "    cosine_sim = pickle.load(f)"
   ]
  },
  {
   "cell_type": "code",
   "execution_count": 31,
   "metadata": {},
   "outputs": [],
   "source": [
    "import pickle\n",
    "\n",
    "with open ('pickles/cosine_sim.pkl', 'rb') as f:\n",
    "    cosine_sim = pickle.load(f)"
   ]
  },
  {
   "cell_type": "code",
   "execution_count": 65,
   "metadata": {},
   "outputs": [],
   "source": [
    "subset_recipe = pd.read_csv('pickles/recipes_30k_random.csv')"
   ]
  },
  {
   "attachments": {},
   "cell_type": "markdown",
   "metadata": {},
   "source": [
    " The resulting cosine_sim matrix will be a square matrix where the value at row i and column j represents the cosine similarity between recipes i and j."
   ]
  },
  {
   "cell_type": "code",
   "execution_count": 55,
   "metadata": {},
   "outputs": [],
   "source": [
    "subset_recipe= subset_recipe.reset_index(drop=True)"
   ]
  },
  {
   "cell_type": "code",
   "execution_count": 85,
   "metadata": {},
   "outputs": [
    {
     "name": "stdout",
     "output_type": "stream",
     "text": [
      "The cosine similarity between 'broccoli pork' and 'pork tenderloin with cumberland sauce' is 0.43\n"
     ]
    }
   ],
   "source": [
    "# Select two recipes to compare\n",
    "recipe1 = subset_recipe.iloc[9473]\n",
    "recipe2 = subset_recipe.iloc[8048]\n",
    "\n",
    "# Compute the cosine similarity between the two recipes\n",
    "cosine_sim_12 = cosine_sim[9473, 8048]\n",
    "\n",
    "print(f\"The cosine similarity between '{recipe1['name']}' and '{recipe2['name']}' is {cosine_sim_12:.2f}\")\n"
   ]
  },
  {
   "attachments": {},
   "cell_type": "markdown",
   "metadata": {},
   "source": [
    "If the cosine similarity calculation is working correctly, you should see a value between 0 and 1 that represents the similarity between the two recipes. A value of 1 would mean that the two recipes are identical, while a value of 0 would mean that they have no similarity."
   ]
  },
  {
   "attachments": {},
   "cell_type": "markdown",
   "metadata": {},
   "source": [
    "This function takes three arguments: the name of the input recipe, the recipe dataframe recipe_df, and the cosine similarity matrix cosine_sim. It also has an optional parameter n which specifies the number of most similar recipes to return (default is 3)."
   ]
  },
  {
   "attachments": {},
   "cell_type": "markdown",
   "metadata": {},
   "source": [
    "The function first finds the index of the input recipe in the dataframe. It then retrieves the cosine similarity scores between the input recipe and all other recipes from the cosine_sim matrix. The scores are stored as a list of (recipe index, similarity score) tuples. The list is sorted by the similarity score in descending order, and the top n most similar recipes (excluding the input recipe itself) are selected from the dataframe using the iloc method."
   ]
  },
  {
   "cell_type": "code",
   "execution_count": 31,
   "metadata": {},
   "outputs": [
    {
     "data": {
      "text/html": [
       "<div>\n",
       "<style scoped>\n",
       "    .dataframe tbody tr th:only-of-type {\n",
       "        vertical-align: middle;\n",
       "    }\n",
       "\n",
       "    .dataframe tbody tr th {\n",
       "        vertical-align: top;\n",
       "    }\n",
       "\n",
       "    .dataframe thead th {\n",
       "        text-align: right;\n",
       "    }\n",
       "</style>\n",
       "<table border=\"1\" class=\"dataframe\">\n",
       "  <thead>\n",
       "    <tr style=\"text-align: right;\">\n",
       "      <th></th>\n",
       "      <th>name</th>\n",
       "      <th>id</th>\n",
       "      <th>minutes</th>\n",
       "      <th>submitted</th>\n",
       "      <th>n_steps</th>\n",
       "      <th>steps</th>\n",
       "      <th>description</th>\n",
       "      <th>ingredients</th>\n",
       "      <th>n_ingredients</th>\n",
       "      <th>calories</th>\n",
       "      <th>total fat</th>\n",
       "      <th>sugar</th>\n",
       "      <th>sodium</th>\n",
       "      <th>protein</th>\n",
       "      <th>saturated fat</th>\n",
       "      <th>carbohydrates</th>\n",
       "      <th>food_types</th>\n",
       "      <th>rating</th>\n",
       "      <th>text</th>\n",
       "    </tr>\n",
       "  </thead>\n",
       "  <tbody>\n",
       "    <tr>\n",
       "      <th>0</th>\n",
       "      <td>dilled white bean and grape tomato salad</td>\n",
       "      <td>428248</td>\n",
       "      <td>70</td>\n",
       "      <td>2010-06-02</td>\n",
       "      <td>6</td>\n",
       "      <td>1. toss all ingredients in a large bowl 2. sea...</td>\n",
       "      <td>from the june, 2010 issue of bon appetite. thi...</td>\n",
       "      <td>cannellini beans  grape tomatoes  red onion  f...</td>\n",
       "      <td>10</td>\n",
       "      <td>222.5</td>\n",
       "      <td>15.0</td>\n",
       "      <td>22.0</td>\n",
       "      <td>17.0</td>\n",
       "      <td>16.0</td>\n",
       "      <td>7.0</td>\n",
       "      <td>8.0</td>\n",
       "      <td>Gluten-Free, Low-calories</td>\n",
       "      <td>4.533333</td>\n",
       "      <td>dilled white bean grape tomato salad cannellin...</td>\n",
       "    </tr>\n",
       "    <tr>\n",
       "      <th>1</th>\n",
       "      <td>tuna spook sandwiches  halloween lunch box sur...</td>\n",
       "      <td>257172</td>\n",
       "      <td>10</td>\n",
       "      <td>2007-10-05</td>\n",
       "      <td>7</td>\n",
       "      <td>1. drain water from tuna and place in small mi...</td>\n",
       "      <td>cute lunch box idea for halloween that your li...</td>\n",
       "      <td>tuna fish  mayonnaise  fresh lemon juice  cele...</td>\n",
       "      <td>6</td>\n",
       "      <td>199.3</td>\n",
       "      <td>6.0</td>\n",
       "      <td>13.0</td>\n",
       "      <td>20.0</td>\n",
       "      <td>24.0</td>\n",
       "      <td>3.0</td>\n",
       "      <td>9.0</td>\n",
       "      <td>Low-calories</td>\n",
       "      <td>5.000000</td>\n",
       "      <td>tuna spook sandwiches halloween lunch box surp...</td>\n",
       "    </tr>\n",
       "    <tr>\n",
       "      <th>2</th>\n",
       "      <td>easy cream cheese dip</td>\n",
       "      <td>17649</td>\n",
       "      <td>5</td>\n",
       "      <td>2002-01-21</td>\n",
       "      <td>3</td>\n",
       "      <td>1. pour about half of the salsa into a blender...</td>\n",
       "      <td>i got this recipe from a family christmas part...</td>\n",
       "      <td>fat free cream cheese  salsa</td>\n",
       "      <td>2</td>\n",
       "      <td>44.0</td>\n",
       "      <td>0.0</td>\n",
       "      <td>12.0</td>\n",
       "      <td>20.0</td>\n",
       "      <td>10.0</td>\n",
       "      <td>1.0</td>\n",
       "      <td>1.0</td>\n",
       "      <td>Gluten-Free, Low-calories</td>\n",
       "      <td>4.500000</td>\n",
       "      <td>easy cream cheese dip fat free cream cheese sa...</td>\n",
       "    </tr>\n",
       "    <tr>\n",
       "      <th>3</th>\n",
       "      <td>honey roasted applesauce</td>\n",
       "      <td>256107</td>\n",
       "      <td>40</td>\n",
       "      <td>2007-09-29</td>\n",
       "      <td>13</td>\n",
       "      <td>1. preheat oven to 425 degrees f 2. peel the a...</td>\n",
       "      <td>i saw this on easy entertaining today. super e...</td>\n",
       "      <td>apples  sweet butter  fresh lemon juice  sea s...</td>\n",
       "      <td>5</td>\n",
       "      <td>164.1</td>\n",
       "      <td>6.0</td>\n",
       "      <td>119.0</td>\n",
       "      <td>8.0</td>\n",
       "      <td>0.0</td>\n",
       "      <td>12.0</td>\n",
       "      <td>11.0</td>\n",
       "      <td>Gluten-Free, Low-calories</td>\n",
       "      <td>5.000000</td>\n",
       "      <td>honey roasted applesauce apples sweet butter f...</td>\n",
       "    </tr>\n",
       "    <tr>\n",
       "      <th>4</th>\n",
       "      <td>kansas city barbecue sauce</td>\n",
       "      <td>172027</td>\n",
       "      <td>15</td>\n",
       "      <td>2006-06-08</td>\n",
       "      <td>8</td>\n",
       "      <td>1. in medium saucepan cook onion and garlic in...</td>\n",
       "      <td>realfood4realpeople at yahoo groups.</td>\n",
       "      <td>onion  garlic cloves  olive oil  apple juice  ...</td>\n",
       "      <td>13</td>\n",
       "      <td>29.7</td>\n",
       "      <td>1.0</td>\n",
       "      <td>17.0</td>\n",
       "      <td>6.0</td>\n",
       "      <td>0.0</td>\n",
       "      <td>0.0</td>\n",
       "      <td>1.0</td>\n",
       "      <td>Gluten-Free, Low-calories</td>\n",
       "      <td>4.000000</td>\n",
       "      <td>kansas city barbecue sauce onion garlic cloves...</td>\n",
       "    </tr>\n",
       "  </tbody>\n",
       "</table>\n",
       "</div>"
      ],
      "text/plain": [
       "                                                name      id  minutes  \\\n",
       "0           dilled white bean and grape tomato salad  428248       70   \n",
       "1  tuna spook sandwiches  halloween lunch box sur...  257172       10   \n",
       "2                              easy cream cheese dip   17649        5   \n",
       "3                           honey roasted applesauce  256107       40   \n",
       "4                         kansas city barbecue sauce  172027       15   \n",
       "\n",
       "    submitted  n_steps                                              steps  \\\n",
       "0  2010-06-02        6  1. toss all ingredients in a large bowl 2. sea...   \n",
       "1  2007-10-05        7  1. drain water from tuna and place in small mi...   \n",
       "2  2002-01-21        3  1. pour about half of the salsa into a blender...   \n",
       "3  2007-09-29       13  1. preheat oven to 425 degrees f 2. peel the a...   \n",
       "4  2006-06-08        8  1. in medium saucepan cook onion and garlic in...   \n",
       "\n",
       "                                         description  \\\n",
       "0  from the june, 2010 issue of bon appetite. thi...   \n",
       "1  cute lunch box idea for halloween that your li...   \n",
       "2  i got this recipe from a family christmas part...   \n",
       "3  i saw this on easy entertaining today. super e...   \n",
       "4               realfood4realpeople at yahoo groups.   \n",
       "\n",
       "                                         ingredients  n_ingredients  calories  \\\n",
       "0  cannellini beans  grape tomatoes  red onion  f...             10     222.5   \n",
       "1  tuna fish  mayonnaise  fresh lemon juice  cele...              6     199.3   \n",
       "2                       fat free cream cheese  salsa              2      44.0   \n",
       "3  apples  sweet butter  fresh lemon juice  sea s...              5     164.1   \n",
       "4  onion  garlic cloves  olive oil  apple juice  ...             13      29.7   \n",
       "\n",
       "   total fat  sugar  sodium  protein  saturated fat  carbohydrates  \\\n",
       "0       15.0   22.0    17.0     16.0            7.0            8.0   \n",
       "1        6.0   13.0    20.0     24.0            3.0            9.0   \n",
       "2        0.0   12.0    20.0     10.0            1.0            1.0   \n",
       "3        6.0  119.0     8.0      0.0           12.0           11.0   \n",
       "4        1.0   17.0     6.0      0.0            0.0            1.0   \n",
       "\n",
       "                  food_types    rating  \\\n",
       "0  Gluten-Free, Low-calories  4.533333   \n",
       "1               Low-calories  5.000000   \n",
       "2  Gluten-Free, Low-calories  4.500000   \n",
       "3  Gluten-Free, Low-calories  5.000000   \n",
       "4  Gluten-Free, Low-calories  4.000000   \n",
       "\n",
       "                                                text  \n",
       "0  dilled white bean grape tomato salad cannellin...  \n",
       "1  tuna spook sandwiches halloween lunch box surp...  \n",
       "2  easy cream cheese dip fat free cream cheese sa...  \n",
       "3  honey roasted applesauce apples sweet butter f...  \n",
       "4  kansas city barbecue sauce onion garlic cloves...  "
      ]
     },
     "execution_count": 31,
     "metadata": {},
     "output_type": "execute_result"
    }
   ],
   "source": [
    "subset_recipe.to_csv('pickles/recipes_15k_random_joblib.csv')\n",
    "subset_recipe.head()"
   ]
  },
  {
   "cell_type": "code",
   "execution_count": 40,
   "metadata": {},
   "outputs": [],
   "source": [
    "def get_name_from_index(index):\n",
    "    return subset_recipe[subset_recipe.index == index]['name'].values[0]\n",
    "\n",
    "def get_index_from_name(name):\n",
    "    return subset_recipe[subset_recipe.name == name].index[0]"
   ]
  },
  {
   "cell_type": "code",
   "execution_count": 91,
   "metadata": {},
   "outputs": [
    {
     "data": {
      "text/plain": [
       "6680"
      ]
     },
     "execution_count": 91,
     "metadata": {},
     "output_type": "execute_result"
    }
   ],
   "source": [
    "recipe_to_find = 'broccoli pie'\n",
    "recipe_index = get_index_from_name(recipe_to_find)\n",
    "recipe_index"
   ]
  },
  {
   "cell_type": "code",
   "execution_count": 83,
   "metadata": {},
   "outputs": [
    {
     "data": {
      "text/plain": [
       "8048"
      ]
     },
     "execution_count": 83,
     "metadata": {},
     "output_type": "execute_result"
    }
   ],
   "source": [
    "recipe_to_find = 'pork tenderloin with cumberland sauce'\n",
    "recipe_index = get_index_from_name(recipe_to_find)\n",
    "recipe_index"
   ]
  },
  {
   "cell_type": "code",
   "execution_count": 63,
   "metadata": {},
   "outputs": [
    {
     "data": {
      "text/plain": [
       "'broccoli pork'"
      ]
     },
     "execution_count": 63,
     "metadata": {},
     "output_type": "execute_result"
    }
   ],
   "source": [
    "get_name_from_index(4088)"
   ]
  },
  {
   "cell_type": "code",
   "execution_count": 92,
   "metadata": {},
   "outputs": [],
   "source": [
    "similar_rec = list(enumerate(cosine_sim[recipe_index])) #accessing the row corresponding to given recipe to find all the similarity scores for that recipe and then enumerating over it\n",
    "sorted_similar = sorted(similar_rec,key=lambda x:x[1],reverse=True)[1:]"
   ]
  },
  {
   "cell_type": "code",
   "execution_count": 93,
   "metadata": {},
   "outputs": [
    {
     "name": "stdout",
     "output_type": "stream",
     "text": [
      "Top 5 similar recipes to \"try\" are:\n",
      "\n",
      "cream of broccoli cheese soup\n",
      "broccoli cheese soup\n",
      "grandma s egg custard pie\n",
      "broccoli parmesan\n",
      "nestle toll house pie\n"
     ]
    }
   ],
   "source": [
    "i = 0\n",
    "print(f'Top 5 similar recipes to \"try\" are:\\n')\n",
    "if sorted_similar:\n",
    "    for element in sorted_similar:\n",
    "        print(get_name_from_index(element[0]))\n",
    "        i += 1\n",
    "        if i > 4:\n",
    "            break\n",
    "else:\n",
    "    print('No similar recipes found.')\n"
   ]
  },
  {
   "cell_type": "code",
   "execution_count": 60,
   "metadata": {},
   "outputs": [],
   "source": [
    "def get_similar(subset_recipe= subset_recipe, cosine_sim=cosine_sim):\n",
    "    recipe_to_find = input(\"Enter the name of a recipe: \")\n",
    "    \n",
    "    try:\n",
    "        recipe_index = get_index_from_name(recipe_to_find)\n",
    "    except :\n",
    "        print(f\"Sorry, the {recipe_to_find} recipe you entered could not be found.\")\n",
    "        print('I found some similar recipe names in my library: ')\n",
    "        n=3\n",
    "        all_names = subset_recipe['name'].values.tolist()\n",
    "\n",
    "        # Find the most similar names using fuzzy matching\n",
    "        similar_names = process.extract(recipe_to_find, all_names, scorer=fuzz.token_sort_ratio, limit=n)\n",
    "\n",
    "        # Extract the names and similarity scores\n",
    "        similar_names = [(n, s) for n, s in process.extract(recipe_to_find, all_names, scorer=fuzz.token_sort_ratio, limit=n)]\n",
    "\n",
    "        print('Similar recipe names:')\n",
    "        for i, (name, score) in enumerate(similar_names):\n",
    "            print(f\"{i+1}. {name}\")\n",
    "        \n",
    "        # Ask user to choose a similar recipe name\n",
    "        choice = input('Enter the number of the recipe you meant to find (or press enter to exit): ')\n",
    "        if not choice:\n",
    "            return\n",
    "        try:\n",
    "            choice = int(choice)\n",
    "            recipe_to_find = similar_names[choice-1][0]\n",
    "            recipe_index = get_index_from_name(recipe_to_find)\n",
    "        except (ValueError, IndexError):\n",
    "            print('Invalid choice.')\n",
    "            return\n",
    "   \n",
    "    similar_rec = list(enumerate(cosine_sim[recipe_index]))\n",
    "    sorted_similar = sorted(similar_rec, key=lambda x: x[1], reverse=True)[1:]\n",
    "    \n",
    "    print(f\"Top 5 similar recipes to '{recipe_to_find}' are:\\n\")\n",
    "    for i, element in enumerate(sorted_similar[:5]):\n",
    "        print(f\"{i+1}. {get_name_from_index(element[0])}\")\n",
    "\n",
    "    # Ask the user to select a recipe\n",
    "    selected_recipe = input(\"Enter the number of a recipe to see its steps and ingredients (or 'q' to quit): \")\n",
    "    if selected_recipe == 'q':\n",
    "        return\n",
    "    \n",
    "    # Convert the selected recipe to an integer and get its index\n",
    "    try:\n",
    "        selected_recipe_index = sorted_similar[int(selected_recipe)-1][0]\n",
    "    except:\n",
    "        print(\"Invalid selection.\")\n",
    "        return\n",
    "    \n",
    "    # Get the steps and ingredients for the selected recipe\n",
    "    recipe_name = get_name_from_index(selected_recipe_index)\n",
    "    recipe_steps = subset_recipe.loc[selected_recipe_index, 'steps']\n",
    "    recipe_ingredients = subset_recipe.loc[selected_recipe_index, 'ingredients']\n",
    "\n",
    "    # Print the steps and ingredients\n",
    "    print(f\"\\n{recipe_name}\\n\")\n",
    "    print(f\"Ingredients: {recipe_ingredients}\")\n",
    "    print(f\"\\nSteps: {recipe_steps}\")\n",
    "    "
   ]
  },
  {
   "attachments": {},
   "cell_type": "markdown",
   "metadata": {},
   "source": [
    " Ask the user to select a recipe\n",
    "    selected_recipe = input(\"Enter the number of a recipe to see its steps and ingredients (or 'q' to quit): \")\n",
    "    if selected_recipe == 'q':\n",
    "        return\n",
    "\n",
    "    # Convert the selected recipe to an integer and get its index\n",
    "    try:\n",
    "        selected_recipe_index = sorted_similar[int(selected_recipe)-1][0]\n",
    "    except:\n",
    "        print(\"Invalid selection.\")\n",
    "        return\n",
    "\n",
    "    # Get the steps and ingredients for the selected recipe\n",
    "    recipe_name = get_name_from_index(selected_recipe_index)\n",
    "    recipe_steps = subset_recipe.loc[selected_recipe_index, 'steps']\n",
    "    recipe_ingredients = subset_recipe.loc[selected_recipe_index, 'ingredients']\n",
    "\n",
    "    # Print the steps and ingredients\n",
    "    print(f\"\\n{recipe_name}\\n\")\n",
    "    print(\"Ingredients:\")\n",
    "    for ingredient in recipe_ingredients:\n",
    "        print(f\"- {ingredient}\")\n",
    "    print(\"\\nSteps:\")\n",
    "    for i, step in enumerate(recipe_steps):\n",
    "        print(f\"{i+1}. {step}\")"
   ]
  },
  {
   "cell_type": "code",
   "execution_count": 96,
   "metadata": {},
   "outputs": [
    {
     "name": "stdout",
     "output_type": "stream",
     "text": [
      "Top 5 similar recipes to 'chicken thai curry' are:\n",
      "\n",
      "1. green coconut curry with vegetables\n",
      "2. curry chicken  fast   easy\n",
      "3. thai vegetable curry\n",
      "4. gaeng keow wan gai   thai green curry chicken\n",
      "5. thai green chicken curry  diabetic friendly   sugarless\n",
      "\n",
      "curry chicken  fast   easy\n",
      "\n",
      "Ingredients: cooking oil, garlic, curry powder, onions, whole chicken, water, salt, potatoes\n",
      "\n",
      "Steps: 1. in a large pot heat up cooking oil add chopped garlic and onion lightly fry 2. add curry powder and stir together quickly 3. do not burn then add 1  4 cup of the water bringing to a light simmer 4. stir in chicken until its completely covered and all mixed together in the curry and is starting to lightly cook 5. 3-5 minutes 6. add in balance of water and salt and bring to boil 7. turn heat down to med & lightly simmer for 45 minutes covered 8. add in potatoes 9. then continue to simmer until potatoes are done 10. put on a bed of rice or eat this as a stew 11. this simply is the best curry youll ever eat that comes out of your own kitchen\n"
     ]
    }
   ],
   "source": [
    "top_similar = get_similar(subset_recipe, cosine_sim)\n",
    "top_similar"
   ]
  },
  {
   "cell_type": "code",
   "execution_count": 89,
   "metadata": {},
   "outputs": [],
   "source": [
    "from fuzzywuzzy import fuzz, process\n",
    "\n",
    "def find_similar_recipe_names(name, subset_recipe, n=3):\n",
    "    # Get all recipe names in the dataframe\n",
    "    all_names = subset_recipe['name'].values.tolist()\n",
    "\n",
    "    # Find the most similar names using fuzzy matching\n",
    "    similar_names = process.extract(name, all_names, scorer=fuzz.token_sort_ratio, limit=n)\n",
    "\n",
    "    # Extract the names and similarity scores\n",
    "    similar_names = [(n, s) for n, s in process.extract(name, all_names, scorer=fuzz.token_sort_ratio, limit=n)]\n",
    "\n",
    "    return similar_names\n"
   ]
  },
  {
   "cell_type": "code",
   "execution_count": 95,
   "metadata": {},
   "outputs": [
    {
     "data": {
      "text/plain": [
       "[('chicken thai curry', 84),\n",
       " ('curry chicken udon', 84),\n",
       " ('easy chicken curry', 84)]"
      ]
     },
     "execution_count": 95,
     "metadata": {},
     "output_type": "execute_result"
    }
   ],
   "source": [
    "findy = find_similar_recipe_names('chicken curry', subset_recipe)\n",
    "findy"
   ]
  },
  {
   "cell_type": "code",
   "execution_count": 96,
   "metadata": {},
   "outputs": [],
   "source": [
    "trying = 'cream of broccoli cheese soup'"
   ]
  },
  {
   "cell_type": "code",
   "execution_count": 68,
   "metadata": {},
   "outputs": [
    {
     "data": {
      "text/plain": [
       "17812"
      ]
     },
     "execution_count": 68,
     "metadata": {},
     "output_type": "execute_result"
    }
   ],
   "source": [
    "indices = get_index_from_name(trying)\n",
    "indices"
   ]
  },
  {
   "cell_type": "code",
   "execution_count": 69,
   "metadata": {},
   "outputs": [
    {
     "data": {
      "text/html": [
       "<div>\n",
       "<style scoped>\n",
       "    .dataframe tbody tr th:only-of-type {\n",
       "        vertical-align: middle;\n",
       "    }\n",
       "\n",
       "    .dataframe tbody tr th {\n",
       "        vertical-align: top;\n",
       "    }\n",
       "\n",
       "    .dataframe thead th {\n",
       "        text-align: right;\n",
       "    }\n",
       "</style>\n",
       "<table border=\"1\" class=\"dataframe\">\n",
       "  <thead>\n",
       "    <tr style=\"text-align: right;\">\n",
       "      <th></th>\n",
       "      <th>description</th>\n",
       "    </tr>\n",
       "  </thead>\n",
       "  <tbody>\n",
       "    <tr>\n",
       "      <th>17812</th>\n",
       "      <td>another one of my no-flame-required, kid-frien...</td>\n",
       "    </tr>\n",
       "  </tbody>\n",
       "</table>\n",
       "</div>"
      ],
      "text/plain": [
       "                                             description\n",
       "17812  another one of my no-flame-required, kid-frien..."
      ]
     },
     "execution_count": 69,
     "metadata": {},
     "output_type": "execute_result"
    }
   ],
   "source": [
    "locking = subset_recipe.loc[[indices], ['description']]\n",
    "locking"
   ]
  },
  {
   "cell_type": "code",
   "execution_count": 73,
   "metadata": {},
   "outputs": [
    {
     "data": {
      "text/plain": [
       "'another one of my no-flame-required, kid-friendly recipes.  i remember making these in my after school program in grade school and loving them.  they are a great wholesome activity for kids parties...just make sure an adult slices the apples.  my favorite apples to use are pink lady because the tart flavor is a nice compliment to the peanut butter.  for a healthier variation, use cubed slightly green bananas instead of marshmallows...ripe bananas may be mushy.  if you are worried about peanut butter allergies, substitute cashew nut butter as it is far less common to be allergic to.'"
      ]
     },
     "execution_count": 73,
     "metadata": {},
     "output_type": "execute_result"
    }
   ],
   "source": [
    "desc_text = ' '.join(locking.values.ravel().tolist())\n",
    "\n",
    "#desc_text = ' '.join(locking.values.astype(str))\n",
    "desc_text"
   ]
  },
  {
   "cell_type": "code",
   "execution_count": 81,
   "metadata": {},
   "outputs": [],
   "source": [
    "from wordcloud import WordCloud, get_single_color_func\n",
    "import matplotlib.pyplot as plt\n",
    "\n",
    "def make_a_cloud(top_similar):\n",
    "    # Convert top_similar to a list of integer indices\n",
    "    indices = get_index_from_name(top_similar)\n",
    "\n",
    "    # Concatenate the descriptions of the top n most similar recipes\n",
    "    locking = subset_recipe.loc[[indices], ['description']]\n",
    "    desc_text = ' '.join(locking.values.ravel().tolist())\n",
    "    def random_color_func(word=None, font_size=None, position=None, orientation=None, font_path=None, random_state=None):\n",
    "        h = random.randint(0, 359)\n",
    "        s = random.randint(60, 100)\n",
    "        l = random.randint(30, 70)\n",
    "        return \"hsl({}, {}%, {}%)\".format(h, s, l)\n",
    "    # Create a word cloud object with the desired parameters\n",
    "    wordcloud = WordCloud(width=800, height=400,color_func=random_color_func, background_color='rgba(0,0,0,0)', max_words=100).generate(desc_text)\n",
    "\n",
    "    # Display the word cloud\n",
    "    plt.figure(figsize=(10, 5))\n",
    "    plt.imshow(wordcloud, interpolation='bilinear')\n",
    "    plt.axis('off')\n",
    "    plt.show()\n",
    "\n",
    "    # Return the top n most similar recipes\n",
    "    return top_similar\n"
   ]
  },
  {
   "cell_type": "code",
   "execution_count": 97,
   "metadata": {},
   "outputs": [
    {
     "data": {
      "image/png": "[encoded data removed]",
      "text/plain": [
       "<Figure size 1000x500 with 1 Axes>"
      ]
     },
     "metadata": {},
     "output_type": "display_data"
    },
    {
     "name": "stdout",
     "output_type": "stream",
     "text": [
      "cream of broccoli cheese soup\n"
     ]
    }
   ],
   "source": [
    "similar = make_a_cloud(trying)\n",
    "print(similar)"
   ]
  }
 ],
 "metadata": {
  "kernelspec": {
   "display_name": "base",
   "language": "python",
   "name": "python3"
  },
  "language_info": {
   "codemirror_mode": {
    "name": "ipython",
    "version": 3
   },
   "file_extension": ".py",
   "mimetype": "text/x-python",
   "name": "python",
   "nbconvert_exporter": "python",
   "pygments_lexer": "ipython3",
   "version": "3.9.13"
  },
  "orig_nbformat": 4
 },
 "nbformat": 4,
 "nbformat_minor": 2
}
