{
 "cells": [
  {
   "attachments": {},
   "cell_type": "markdown",
   "metadata": {},
   "source": [
    "# I part -> Data Cleaning"
   ]
  },
  {
   "attachments": {},
   "cell_type": "markdown",
   "metadata": {},
   "source": [
    "### 1. Loading libraries and data"
   ]
  },
  {
   "cell_type": "code",
   "execution_count": 1,
   "metadata": {},
   "outputs": [],
   "source": [
    "import pandas as pd\n",
    "import numpy as np\n",
    "import matplotlib.pyplot as plt\n",
    "pd.set_option('display.max_rows', 500)\n",
    "pd.set_option('display.max_columns', 500)"
   ]
  },
  {
   "cell_type": "code",
   "execution_count": 2,
   "metadata": {},
   "outputs": [],
   "source": [
    "#recipe_rating = pd.read_csv('data/interactions_validation.csv')\n",
    "raw_interactions = pd.read_csv('data/RAW_interactions.csv')\n",
    "raw_recipes = pd.read_csv('data/RAW_recipes.csv')"
   ]
  },
  {
   "attachments": {},
   "cell_type": "markdown",
   "metadata": {},
   "source": [
    "### 2. First look at the data"
   ]
  },
  {
   "cell_type": "code",
   "execution_count": 3,
   "metadata": {},
   "outputs": [
    {
     "data": {
      "text/plain": [
       "(1132367, 5)"
      ]
     },
     "execution_count": 3,
     "metadata": {},
     "output_type": "execute_result"
    }
   ],
   "source": [
    "raw_interactions.shape"
   ]
  },
  {
   "cell_type": "code",
   "execution_count": 4,
   "metadata": {},
   "outputs": [
    {
     "data": {
      "text/html": [
       "<div>\n",
       "<style scoped>\n",
       "    .dataframe tbody tr th:only-of-type {\n",
       "        vertical-align: middle;\n",
       "    }\n",
       "\n",
       "    .dataframe tbody tr th {\n",
       "        vertical-align: top;\n",
       "    }\n",
       "\n",
       "    .dataframe thead th {\n",
       "        text-align: right;\n",
       "    }\n",
       "</style>\n",
       "<table border=\"1\" class=\"dataframe\">\n",
       "  <thead>\n",
       "    <tr style=\"text-align: right;\">\n",
       "      <th></th>\n",
       "      <th>user_id</th>\n",
       "      <th>recipe_id</th>\n",
       "      <th>date</th>\n",
       "      <th>rating</th>\n",
       "      <th>review</th>\n",
       "    </tr>\n",
       "  </thead>\n",
       "  <tbody>\n",
       "    <tr>\n",
       "      <th>0</th>\n",
       "      <td>38094</td>\n",
       "      <td>40893</td>\n",
       "      <td>2003-02-17</td>\n",
       "      <td>4</td>\n",
       "      <td>Great with a salad. Cooked on top of stove for...</td>\n",
       "    </tr>\n",
       "    <tr>\n",
       "      <th>1</th>\n",
       "      <td>1293707</td>\n",
       "      <td>40893</td>\n",
       "      <td>2011-12-21</td>\n",
       "      <td>5</td>\n",
       "      <td>So simple, so delicious! Great for chilly fall...</td>\n",
       "    </tr>\n",
       "    <tr>\n",
       "      <th>2</th>\n",
       "      <td>8937</td>\n",
       "      <td>44394</td>\n",
       "      <td>2002-12-01</td>\n",
       "      <td>4</td>\n",
       "      <td>This worked very well and is EASY.  I used not...</td>\n",
       "    </tr>\n",
       "    <tr>\n",
       "      <th>3</th>\n",
       "      <td>126440</td>\n",
       "      <td>85009</td>\n",
       "      <td>2010-02-27</td>\n",
       "      <td>5</td>\n",
       "      <td>I made the Mexican topping and took it to bunk...</td>\n",
       "    </tr>\n",
       "    <tr>\n",
       "      <th>4</th>\n",
       "      <td>57222</td>\n",
       "      <td>85009</td>\n",
       "      <td>2011-10-01</td>\n",
       "      <td>5</td>\n",
       "      <td>Made the cheddar bacon topping, adding a sprin...</td>\n",
       "    </tr>\n",
       "  </tbody>\n",
       "</table>\n",
       "</div>"
      ],
      "text/plain": [
       "   user_id  recipe_id        date  rating  \\\n",
       "0    38094      40893  2003-02-17       4   \n",
       "1  1293707      40893  2011-12-21       5   \n",
       "2     8937      44394  2002-12-01       4   \n",
       "3   126440      85009  2010-02-27       5   \n",
       "4    57222      85009  2011-10-01       5   \n",
       "\n",
       "                                              review  \n",
       "0  Great with a salad. Cooked on top of stove for...  \n",
       "1  So simple, so delicious! Great for chilly fall...  \n",
       "2  This worked very well and is EASY.  I used not...  \n",
       "3  I made the Mexican topping and took it to bunk...  \n",
       "4  Made the cheddar bacon topping, adding a sprin...  "
      ]
     },
     "execution_count": 4,
     "metadata": {},
     "output_type": "execute_result"
    }
   ],
   "source": [
    "raw_interactions.head()"
   ]
  },
  {
   "cell_type": "code",
   "execution_count": 5,
   "metadata": {},
   "outputs": [
    {
     "data": {
      "text/plain": [
       "(231637, 12)"
      ]
     },
     "execution_count": 5,
     "metadata": {},
     "output_type": "execute_result"
    }
   ],
   "source": [
    "raw_recipes.shape"
   ]
  },
  {
   "cell_type": "code",
   "execution_count": 6,
   "metadata": {},
   "outputs": [
    {
     "data": {
      "text/html": [
       "<div>\n",
       "<style scoped>\n",
       "    .dataframe tbody tr th:only-of-type {\n",
       "        vertical-align: middle;\n",
       "    }\n",
       "\n",
       "    .dataframe tbody tr th {\n",
       "        vertical-align: top;\n",
       "    }\n",
       "\n",
       "    .dataframe thead th {\n",
       "        text-align: right;\n",
       "    }\n",
       "</style>\n",
       "<table border=\"1\" class=\"dataframe\">\n",
       "  <thead>\n",
       "    <tr style=\"text-align: right;\">\n",
       "      <th></th>\n",
       "      <th>name</th>\n",
       "      <th>id</th>\n",
       "      <th>minutes</th>\n",
       "      <th>contributor_id</th>\n",
       "      <th>submitted</th>\n",
       "      <th>tags</th>\n",
       "      <th>nutrition</th>\n",
       "      <th>n_steps</th>\n",
       "      <th>steps</th>\n",
       "      <th>description</th>\n",
       "      <th>ingredients</th>\n",
       "      <th>n_ingredients</th>\n",
       "    </tr>\n",
       "  </thead>\n",
       "  <tbody>\n",
       "    <tr>\n",
       "      <th>0</th>\n",
       "      <td>arriba   baked winter squash mexican style</td>\n",
       "      <td>137739</td>\n",
       "      <td>55</td>\n",
       "      <td>47892</td>\n",
       "      <td>2005-09-16</td>\n",
       "      <td>['60-minutes-or-less', 'time-to-make', 'course...</td>\n",
       "      <td>[51.5, 0.0, 13.0, 0.0, 2.0, 0.0, 4.0]</td>\n",
       "      <td>11</td>\n",
       "      <td>['make a choice and proceed with recipe', 'dep...</td>\n",
       "      <td>autumn is my favorite time of year to cook! th...</td>\n",
       "      <td>['winter squash', 'mexican seasoning', 'mixed ...</td>\n",
       "      <td>7</td>\n",
       "    </tr>\n",
       "    <tr>\n",
       "      <th>1</th>\n",
       "      <td>a bit different  breakfast pizza</td>\n",
       "      <td>31490</td>\n",
       "      <td>30</td>\n",
       "      <td>26278</td>\n",
       "      <td>2002-06-17</td>\n",
       "      <td>['30-minutes-or-less', 'time-to-make', 'course...</td>\n",
       "      <td>[173.4, 18.0, 0.0, 17.0, 22.0, 35.0, 1.0]</td>\n",
       "      <td>9</td>\n",
       "      <td>['preheat oven to 425 degrees f', 'press dough...</td>\n",
       "      <td>this recipe calls for the crust to be prebaked...</td>\n",
       "      <td>['prepared pizza crust', 'sausage patty', 'egg...</td>\n",
       "      <td>6</td>\n",
       "    </tr>\n",
       "    <tr>\n",
       "      <th>2</th>\n",
       "      <td>all in the kitchen  chili</td>\n",
       "      <td>112140</td>\n",
       "      <td>130</td>\n",
       "      <td>196586</td>\n",
       "      <td>2005-02-25</td>\n",
       "      <td>['time-to-make', 'course', 'preparation', 'mai...</td>\n",
       "      <td>[269.8, 22.0, 32.0, 48.0, 39.0, 27.0, 5.0]</td>\n",
       "      <td>6</td>\n",
       "      <td>['brown ground beef in large pot', 'add choppe...</td>\n",
       "      <td>this modified version of 'mom's' chili was a h...</td>\n",
       "      <td>['ground beef', 'yellow onions', 'diced tomato...</td>\n",
       "      <td>13</td>\n",
       "    </tr>\n",
       "    <tr>\n",
       "      <th>3</th>\n",
       "      <td>alouette  potatoes</td>\n",
       "      <td>59389</td>\n",
       "      <td>45</td>\n",
       "      <td>68585</td>\n",
       "      <td>2003-04-14</td>\n",
       "      <td>['60-minutes-or-less', 'time-to-make', 'course...</td>\n",
       "      <td>[368.1, 17.0, 10.0, 2.0, 14.0, 8.0, 20.0]</td>\n",
       "      <td>11</td>\n",
       "      <td>['place potatoes in a large pot of lightly sal...</td>\n",
       "      <td>this is a super easy, great tasting, make ahea...</td>\n",
       "      <td>['spreadable cheese with garlic and herbs', 'n...</td>\n",
       "      <td>11</td>\n",
       "    </tr>\n",
       "    <tr>\n",
       "      <th>4</th>\n",
       "      <td>amish  tomato ketchup  for canning</td>\n",
       "      <td>44061</td>\n",
       "      <td>190</td>\n",
       "      <td>41706</td>\n",
       "      <td>2002-10-25</td>\n",
       "      <td>['weeknight', 'time-to-make', 'course', 'main-...</td>\n",
       "      <td>[352.9, 1.0, 337.0, 23.0, 3.0, 0.0, 28.0]</td>\n",
       "      <td>5</td>\n",
       "      <td>['mix all ingredients&amp; boil for 2 1 / 2 hours ...</td>\n",
       "      <td>my dh's amish mother raised him on this recipe...</td>\n",
       "      <td>['tomato juice', 'apple cider vinegar', 'sugar...</td>\n",
       "      <td>8</td>\n",
       "    </tr>\n",
       "  </tbody>\n",
       "</table>\n",
       "</div>"
      ],
      "text/plain": [
       "                                         name      id  minutes  \\\n",
       "0  arriba   baked winter squash mexican style  137739       55   \n",
       "1            a bit different  breakfast pizza   31490       30   \n",
       "2                   all in the kitchen  chili  112140      130   \n",
       "3                          alouette  potatoes   59389       45   \n",
       "4          amish  tomato ketchup  for canning   44061      190   \n",
       "\n",
       "   contributor_id   submitted  \\\n",
       "0           47892  2005-09-16   \n",
       "1           26278  2002-06-17   \n",
       "2          196586  2005-02-25   \n",
       "3           68585  2003-04-14   \n",
       "4           41706  2002-10-25   \n",
       "\n",
       "                                                tags  \\\n",
       "0  ['60-minutes-or-less', 'time-to-make', 'course...   \n",
       "1  ['30-minutes-or-less', 'time-to-make', 'course...   \n",
       "2  ['time-to-make', 'course', 'preparation', 'mai...   \n",
       "3  ['60-minutes-or-less', 'time-to-make', 'course...   \n",
       "4  ['weeknight', 'time-to-make', 'course', 'main-...   \n",
       "\n",
       "                                    nutrition  n_steps  \\\n",
       "0       [51.5, 0.0, 13.0, 0.0, 2.0, 0.0, 4.0]       11   \n",
       "1   [173.4, 18.0, 0.0, 17.0, 22.0, 35.0, 1.0]        9   \n",
       "2  [269.8, 22.0, 32.0, 48.0, 39.0, 27.0, 5.0]        6   \n",
       "3   [368.1, 17.0, 10.0, 2.0, 14.0, 8.0, 20.0]       11   \n",
       "4   [352.9, 1.0, 337.0, 23.0, 3.0, 0.0, 28.0]        5   \n",
       "\n",
       "                                               steps  \\\n",
       "0  ['make a choice and proceed with recipe', 'dep...   \n",
       "1  ['preheat oven to 425 degrees f', 'press dough...   \n",
       "2  ['brown ground beef in large pot', 'add choppe...   \n",
       "3  ['place potatoes in a large pot of lightly sal...   \n",
       "4  ['mix all ingredients& boil for 2 1 / 2 hours ...   \n",
       "\n",
       "                                         description  \\\n",
       "0  autumn is my favorite time of year to cook! th...   \n",
       "1  this recipe calls for the crust to be prebaked...   \n",
       "2  this modified version of 'mom's' chili was a h...   \n",
       "3  this is a super easy, great tasting, make ahea...   \n",
       "4  my dh's amish mother raised him on this recipe...   \n",
       "\n",
       "                                         ingredients  n_ingredients  \n",
       "0  ['winter squash', 'mexican seasoning', 'mixed ...              7  \n",
       "1  ['prepared pizza crust', 'sausage patty', 'egg...              6  \n",
       "2  ['ground beef', 'yellow onions', 'diced tomato...             13  \n",
       "3  ['spreadable cheese with garlic and herbs', 'n...             11  \n",
       "4  ['tomato juice', 'apple cider vinegar', 'sugar...              8  "
      ]
     },
     "execution_count": 6,
     "metadata": {},
     "output_type": "execute_result"
    }
   ],
   "source": [
    "raw_recipes.head()"
   ]
  },
  {
   "attachments": {},
   "cell_type": "markdown",
   "metadata": {},
   "source": [
    "### 3. Dealing with missing values and cleaning the data"
   ]
  },
  {
   "cell_type": "code",
   "execution_count": 7,
   "metadata": {},
   "outputs": [
    {
     "data": {
      "text/plain": [
       "name                 1\n",
       "id                   0\n",
       "minutes              0\n",
       "contributor_id       0\n",
       "submitted            0\n",
       "tags                 0\n",
       "nutrition            0\n",
       "n_steps              0\n",
       "steps                0\n",
       "description       4979\n",
       "ingredients          0\n",
       "n_ingredients        0\n",
       "dtype: int64"
      ]
     },
     "execution_count": 7,
     "metadata": {},
     "output_type": "execute_result"
    }
   ],
   "source": [
    "raw_recipes.isna().sum()"
   ]
  },
  {
   "cell_type": "code",
   "execution_count": 8,
   "metadata": {},
   "outputs": [
    {
     "data": {
      "text/html": [
       "<div>\n",
       "<style scoped>\n",
       "    .dataframe tbody tr th:only-of-type {\n",
       "        vertical-align: middle;\n",
       "    }\n",
       "\n",
       "    .dataframe tbody tr th {\n",
       "        vertical-align: top;\n",
       "    }\n",
       "\n",
       "    .dataframe thead th {\n",
       "        text-align: right;\n",
       "    }\n",
       "</style>\n",
       "<table border=\"1\" class=\"dataframe\">\n",
       "  <thead>\n",
       "    <tr style=\"text-align: right;\">\n",
       "      <th></th>\n",
       "      <th>name</th>\n",
       "      <th>id</th>\n",
       "      <th>minutes</th>\n",
       "      <th>contributor_id</th>\n",
       "      <th>submitted</th>\n",
       "      <th>tags</th>\n",
       "      <th>nutrition</th>\n",
       "      <th>n_steps</th>\n",
       "      <th>steps</th>\n",
       "      <th>description</th>\n",
       "      <th>ingredients</th>\n",
       "      <th>n_ingredients</th>\n",
       "    </tr>\n",
       "  </thead>\n",
       "  <tbody>\n",
       "    <tr>\n",
       "      <th>721</th>\n",
       "      <td>NaN</td>\n",
       "      <td>368257</td>\n",
       "      <td>10</td>\n",
       "      <td>779451</td>\n",
       "      <td>2009-04-27</td>\n",
       "      <td>['15-minutes-or-less', 'time-to-make', 'course...</td>\n",
       "      <td>[1596.2, 249.0, 155.0, 0.0, 2.0, 112.0, 14.0]</td>\n",
       "      <td>6</td>\n",
       "      <td>['in a bowl , combine ingredients except for o...</td>\n",
       "      <td>-------------</td>\n",
       "      <td>['lemon', 'honey', 'horseradish mustard', 'gar...</td>\n",
       "      <td>10</td>\n",
       "    </tr>\n",
       "  </tbody>\n",
       "</table>\n",
       "</div>"
      ],
      "text/plain": [
       "    name      id  minutes  contributor_id   submitted  \\\n",
       "721  NaN  368257       10          779451  2009-04-27   \n",
       "\n",
       "                                                  tags  \\\n",
       "721  ['15-minutes-or-less', 'time-to-make', 'course...   \n",
       "\n",
       "                                         nutrition  n_steps  \\\n",
       "721  [1596.2, 249.0, 155.0, 0.0, 2.0, 112.0, 14.0]        6   \n",
       "\n",
       "                                                 steps    description  \\\n",
       "721  ['in a bowl , combine ingredients except for o...  -------------   \n",
       "\n",
       "                                           ingredients  n_ingredients  \n",
       "721  ['lemon', 'honey', 'horseradish mustard', 'gar...             10  "
      ]
     },
     "execution_count": 8,
     "metadata": {},
     "output_type": "execute_result"
    }
   ],
   "source": [
    "#looking on the missing value row\n",
    "raw_recipes[raw_recipes['name'].isna()]"
   ]
  },
  {
   "cell_type": "code",
   "execution_count": 9,
   "metadata": {},
   "outputs": [
    {
     "data": {
      "text/plain": [
       "[\"['lemon', 'honey', 'horseradish mustard', 'garlic clove', 'dried parsley', 'dried basil', 'dried thyme', 'garlic salt', 'black pepper', 'olive oil']\"]"
      ]
     },
     "execution_count": 9,
     "metadata": {},
     "output_type": "execute_result"
    }
   ],
   "source": [
    "#searching in ingredients to find out the name of recipe\n",
    "raw_recipes[raw_recipes['name'].isna()]['ingredients'].tolist()"
   ]
  },
  {
   "cell_type": "code",
   "execution_count": 11,
   "metadata": {},
   "outputs": [],
   "source": [
    "#filling missing value in name column\n",
    "raw_recipes.loc[raw_recipes['name'].isna(), 'name'] = 'Salad Dressing'"
   ]
  },
  {
   "cell_type": "code",
   "execution_count": 7,
   "metadata": {},
   "outputs": [
    {
     "data": {
      "text/plain": [
       "user_id        0\n",
       "recipe_id      0\n",
       "date           0\n",
       "rating         0\n",
       "review       169\n",
       "dtype: int64"
      ]
     },
     "execution_count": 7,
     "metadata": {},
     "output_type": "execute_result"
    }
   ],
   "source": [
    "raw_interactions.isna().sum()"
   ]
  },
  {
   "cell_type": "code",
   "execution_count": 12,
   "metadata": {},
   "outputs": [],
   "source": [
    "# Apply lowercase to all string values in the DataFrame\n",
    "raw_interactions = raw_interactions.applymap(lambda s: s.lower() if type(s) == str else s)\n",
    "raw_recipes = raw_recipes.applymap(lambda s: s.lower() if type(s) == str else s)\n"
   ]
  },
  {
   "cell_type": "code",
   "execution_count": 3,
   "metadata": {},
   "outputs": [],
   "source": [
    "# Convert the list of strings in the 'steps' column to a numbered list of strings\n",
    "raw_recipes['steps'] = raw_recipes['steps'].apply(lambda x: [f\"{i}. {step.strip()}\" for i, step in enumerate(x.split(','), start=1)])\n",
    "\n",
    "# Convert the numbered list of strings back to a single string\n",
    "raw_recipes['steps'] = raw_recipes['steps'].apply(lambda x: \", \".join(x))"
   ]
  },
  {
   "cell_type": "code",
   "execution_count": 7,
   "metadata": {},
   "outputs": [],
   "source": [
    "# Remove unwanted characters from the 'steps' column\n",
    "unwanted_chars = \"[]\\\"'/\\\\,\"\n",
    "raw_recipes['steps'] = raw_recipes['steps'].apply(lambda x: x.translate(str.maketrans('', '', unwanted_chars)))"
   ]
  },
  {
   "attachments": {},
   "cell_type": "markdown",
   "metadata": {},
   "source": [
    "### 4. Looking for duplciates"
   ]
  },
  {
   "attachments": {},
   "cell_type": "markdown",
   "metadata": {},
   "source": [
    "No duplicates"
   ]
  },
  {
   "cell_type": "code",
   "execution_count": 13,
   "metadata": {},
   "outputs": [
    {
     "name": "stdout",
     "output_type": "stream",
     "text": [
      "1 False\n"
     ]
    }
   ],
   "source": [
    "#searching for duplicates\n",
    "duplicat = raw_interactions.duplicated(keep=False)\n",
    "len(duplicat)\n",
    "\n",
    "for row in duplicat.keys():\n",
    "    if row == True:\n",
    "        print(row, duplicat[row])"
   ]
  },
  {
   "attachments": {},
   "cell_type": "markdown",
   "metadata": {},
   "source": [
    "### 5. Dropping columns"
   ]
  },
  {
   "cell_type": "code",
   "execution_count": 10,
   "metadata": {},
   "outputs": [
    {
     "name": "stdout",
     "output_type": "stream",
     "text": [
      "Index(['name', 'id', 'minutes', 'contributor_id', 'submitted', 'tags',\n",
      "       'nutrition', 'n_steps', 'steps', 'description', 'ingredients',\n",
      "       'n_ingredients'],\n",
      "      dtype='object')\n",
      "Index(['user_id', 'recipe_id', 'date', 'rating', 'review'], dtype='object')\n"
     ]
    }
   ],
   "source": [
    "print(raw_recipes.columns)\n",
    "print(raw_interactions.columns)"
   ]
  },
  {
   "cell_type": "code",
   "execution_count": 14,
   "metadata": {},
   "outputs": [],
   "source": [
    "recipes = raw_recipes.drop(['contributor_id', 'tags', 'description'], axis=1)\n",
    "rating = raw_interactions.drop(['user_id','review'],  axis=1)"
   ]
  },
  {
   "attachments": {},
   "cell_type": "markdown",
   "metadata": {},
   "source": [
    "### 6. Searching for high correlation and low variance"
   ]
  },
  {
   "attachments": {},
   "cell_type": "markdown",
   "metadata": {},
   "source": [
    " no high correlation columns\n",
    " \n",
    " no low variance columns"
   ]
  },
  {
   "cell_type": "code",
   "execution_count": 15,
   "metadata": {},
   "outputs": [
    {
     "name": "stdout",
     "output_type": "stream",
     "text": [
      "[]\n",
      "0\n"
     ]
    },
    {
     "name": "stderr",
     "output_type": "stream",
     "text": [
      "C:\\Users\\user\\AppData\\Local\\Temp\\ipykernel_10104\\2514529888.py:5: DeprecationWarning: `np.bool` is a deprecated alias for the builtin `bool`. To silence this warning, use `bool` by itself. Doing this will not modify any behavior and is safe. If you specifically wanted the numpy scalar type, use `np.bool_` here.\n",
      "Deprecated in NumPy 1.20; for more details and guidance: https://numpy.org/devdocs/release/1.20.0-notes.html#deprecations\n",
      "  upper = corr_matrix.where(np.triu(np.ones(corr_matrix.shape), k=1).astype(np.bool))\n"
     ]
    }
   ],
   "source": [
    "# Find the Column Collinearity\n",
    "# # Create correlation matrix\n",
    "corr_matrix = rating.corr().abs()\n",
    "# # Select upper triangle of correlation matrix\n",
    "upper = corr_matrix.where(np.triu(np.ones(corr_matrix.shape), k=1).astype(np.bool))\n",
    "# # Find features with correlation greater than 0.85\n",
    "to_drop = [column for column in upper.columns if any(upper[column] > 0.85)]\n",
    "print(to_drop)\n",
    "print(len(to_drop))"
   ]
  },
  {
   "cell_type": "code",
   "execution_count": 16,
   "metadata": {},
   "outputs": [
    {
     "name": "stdout",
     "output_type": "stream",
     "text": [
      "[]\n"
     ]
    }
   ],
   "source": [
    "#part for repeatable values\n",
    "low_variance = [] #creating a list to contain the names of columns\n",
    "\n",
    "for col in recipes._get_numeric_data(): #loop through all numeric values\n",
    "    minimum = np.min(recipes[col]) #takes the min \n",
    "    ninety_perc = np.percentile(recipes[col], 90) #takes the 90th percentile\n",
    "    if ninety_perc == minimum: #if they are equal it means that 90% of values are the same\n",
    "     low_variance.append(col) #appends name of this columns\n",
    "\n",
    "print(low_variance) #not found"
   ]
  },
  {
   "attachments": {},
   "cell_type": "markdown",
   "metadata": {},
   "source": [
    "### 7. Splitting columns for nutrition type"
   ]
  },
  {
   "cell_type": "code",
   "execution_count": 17,
   "metadata": {},
   "outputs": [],
   "source": [
    "#creating columns for nutrition and fill from 'nutrition' column\n",
    "recipes[['calories','total fat','sugar','sodium','protein','saturated fat','carbohydrates']] = recipes.nutrition.str.split(\",\",expand=True) \n",
    "#removing square brackets from columns \n",
    "recipes[['calories', 'carbohydrates']] = recipes[['calories', 'carbohydrates']].applymap(lambda x: x.replace('[','').replace(']',''))\n",
    "# making nutri columns float\n",
    "recipes[['calories','total fat','sugar','sodium','protein','saturated fat','carbohydrates']].astype('float')\n",
    "#drop the nutri column\n",
    "recipes.drop(['nutrition'], axis =1, inplace=True)"
   ]
  },
  {
   "attachments": {},
   "cell_type": "markdown",
   "metadata": {},
   "source": [
    "### 8. Creating food type"
   ]
  },
  {
   "cell_type": "code",
   "execution_count": 18,
   "metadata": {},
   "outputs": [],
   "source": [
    "# creating column 'food type'\n",
    "recipes['food_types'] = ''\n",
    "recipes['food_types'] = recipes['food_types'].astype('str')"
   ]
  },
  {
   "cell_type": "code",
   "execution_count": 19,
   "metadata": {},
   "outputs": [
    {
     "data": {
      "text/plain": [
       "29580"
      ]
     },
     "execution_count": 19,
     "metadata": {},
     "output_type": "execute_result"
    }
   ],
   "source": [
    "#create list of unique ingredients\n",
    "unique_ingredients = []\n",
    "for ingredients in recipes['ingredients'].unique():\n",
    "    for ingredient in ingredients.split(', '):\n",
    "        if ingredient not in unique_ingredients:\n",
    "            unique_ingredients.append(ingredient)\n",
    "len(unique_ingredients)\n"
   ]
  },
  {
   "cell_type": "code",
   "execution_count": 20,
   "metadata": {},
   "outputs": [
    {
     "name": "stdout",
     "output_type": "stream",
     "text": [
      "There are no duplicates in the list.\n"
     ]
    }
   ],
   "source": [
    "#looking for duplicates\n",
    "unique_ingredients_set = set(unique_ingredients)\n",
    "if len(unique_ingredients_set) == len(unique_ingredients):\n",
    "    print(\"There are no duplicates in the list.\")\n",
    "else:\n",
    "    print(\"There are duplicates in the list.\")"
   ]
  },
  {
   "cell_type": "code",
   "execution_count": 22,
   "metadata": {},
   "outputs": [
    {
     "data": {
      "text/plain": [
       "29580"
      ]
     },
     "execution_count": 22,
     "metadata": {},
     "output_type": "execute_result"
    }
   ],
   "source": [
    "# Remove unwanted characters from the beginning and end of each element\n",
    "for i in range(len(unique_ingredients)):\n",
    "    ingredient = unique_ingredients[i]\n",
    "    ingredient = ingredient.strip(\"[']\") # Remove ' and [ from beginning and end of each element\n",
    "    ingredient = ingredient.replace('\"', \"\") # Remove backslashes\n",
    "    unique_ingredients[i] = ingredient\n",
    "\n",
    "len(unique_ingredients)\n"
   ]
  },
  {
   "cell_type": "code",
   "execution_count": 23,
   "metadata": {},
   "outputs": [
    {
     "name": "stdout",
     "output_type": "stream",
     "text": [
      "There are 305 gluten-free recipes in the dataset.\n"
     ]
    }
   ],
   "source": [
    "#searching for gluten-free recipes\n",
    "gluten_free_recipes = recipes[recipes['ingredients'].str.contains('gluten-free', case=False)]\n",
    "if len(gluten_free_recipes) > 0:\n",
    "    print(f'There are {len(gluten_free_recipes)} gluten-free recipes in the dataset.')\n",
    "else:\n",
    "    print('There are no gluten-free recipes in the dataset.')\n"
   ]
  },
  {
   "cell_type": "code",
   "execution_count": 24,
   "metadata": {},
   "outputs": [
    {
     "name": "stdout",
     "output_type": "stream",
     "text": [
      "So we have 155581 gluten-free recipies, and 76056 recepies containing gluten\n"
     ]
    }
   ],
   "source": [
    "#creating filter for recipes which may contain gluten\n",
    "gluten_ingredients = ['wheat flour', 'all-purpose flour', 'breadcrumbs', 'bread', 'barley','rye', 'malt','couscous', 'bulgur', 'spelt', 'farro' , 'cookies']\n",
    "count_gl= 0\n",
    "count_nogl = 0\n",
    "for i in range(len(recipes['ingredients'])):\n",
    "    if any(gluten_ingredient in recipes['ingredients'][i] for gluten_ingredient in gluten_ingredients):\n",
    "        count_gl +=1\n",
    "    elif any(word in recipes['ingredients'][i] for phrase in gluten_ingredients for word in phrase.split()): \n",
    "        count_gl += 1\n",
    "    else:\n",
    "        count_nogl += 1\n",
    "print(f'So we have {count_nogl} gluten-free recipies, and {count_gl} recepies containing gluten')"
   ]
  },
  {
   "cell_type": "code",
   "execution_count": 25,
   "metadata": {},
   "outputs": [
    {
     "name": "stdout",
     "output_type": "stream",
     "text": [
      "Number of recipes in DataFrame: 231637\n",
      "Number of empty 'food types': 231637\n"
     ]
    }
   ],
   "source": [
    "print(f\"Number of recipes in DataFrame: {len(recipes)}\")\n",
    "print(f\"Number of empty 'food types': {len(recipes[recipes['food types'] == ''])}\")"
   ]
  },
  {
   "cell_type": "code",
   "execution_count": 26,
   "metadata": {},
   "outputs": [
    {
     "name": "stderr",
     "output_type": "stream",
     "text": [
      "C:\\Users\\user\\AppData\\Local\\Temp\\ipykernel_10104\\530499404.py:5: SettingWithCopyWarning: \n",
      "A value is trying to be set on a copy of a slice from a DataFrame\n",
      "\n",
      "See the caveats in the documentation: https://pandas.pydata.org/pandas-docs/stable/user_guide/indexing.html#returning-a-view-versus-a-copy\n",
      "  recipes['food types'][i] = 'Veg dessert'\n",
      "C:\\Users\\user\\AppData\\Local\\Temp\\ipykernel_10104\\530499404.py:8: SettingWithCopyWarning: \n",
      "A value is trying to be set on a copy of a slice from a DataFrame\n",
      "\n",
      "See the caveats in the documentation: https://pandas.pydata.org/pandas-docs/stable/user_guide/indexing.html#returning-a-view-versus-a-copy\n",
      "  recipes['food types'][i] = 'Non-Veg dessert'\n"
     ]
    }
   ],
   "source": [
    "#looping through data to check for type of food 'veg'\n",
    "for i in recipes['ingredients'].index:\n",
    "    if 'eggs' not in recipes['ingredients'][i]:\n",
    "        if 'ice-cream' in recipes['ingredients'][i] or 'chocolate' in recipes['ingredients'][i] or 'cookies' in recipes['ingredients'][i]:\n",
    "            recipes['food types'][i] = 'Veg dessert'\n",
    "    elif 'eggs' in recipes['ingredients'][i]:\n",
    "        if 'ice-cream' in recipes['ingredients'][i] or 'chocolate' in recipes['ingredients'][i] or 'cookies' in recipes['ingredients'][i]:\n",
    "            recipes['food types'][i] = 'Non-Veg dessert'"
   ]
  },
  {
   "cell_type": "code",
   "execution_count": 112,
   "metadata": {},
   "outputs": [
    {
     "name": "stdout",
     "output_type": "stream",
     "text": [
      "Number of recipes in DataFrame: 231637\n",
      "Number of empty 'food types': 216943\n"
     ]
    }
   ],
   "source": [
    "print(f\"Number of recipes in DataFrame: {len(recipes)}\")\n",
    "print(f\"Number of empty 'food types': {len(recipes[recipes['food types'] == ''])}\")"
   ]
  },
  {
   "cell_type": "code",
   "execution_count": 28,
   "metadata": {},
   "outputs": [],
   "source": [
    "#looping through data to check for type of food 'gluten free'\n",
    "for i in recipes['ingredients'].index:\n",
    "    if any(gluten_ingredient in recipes['ingredients'][i] for gluten_ingredient in gluten_ingredients):\n",
    "        continue\n",
    "    elif any(word in recipes['ingredients'][i] for phrase in gluten_ingredients for word in phrase.split()): \n",
    "        continue\n",
    "    else:\n",
    "        if recipes['food types'][i] == '':\n",
    "                  recipes.loc[i, 'food types'] = 'Gluten-Free'\n",
    "        else:\n",
    "            recipes.loc[i, 'food types'] += ', Gluten-Free'"
   ]
  },
  {
   "cell_type": "code",
   "execution_count": 29,
   "metadata": {},
   "outputs": [
    {
     "name": "stdout",
     "output_type": "stream",
     "text": [
      "Number of recipes in DataFrame: 231637\n",
      "Number of empty 'food types': 68687\n"
     ]
    }
   ],
   "source": [
    "print(f\"Number of recipes in DataFrame: {len(recipes)}\")\n",
    "print(f\"Number of empty 'food types': {len(recipes[recipes['food types'] == ''])}\")"
   ]
  },
  {
   "cell_type": "code",
   "execution_count": 30,
   "metadata": {},
   "outputs": [],
   "source": [
    "#creating 'Low-calories' type by searching range of calories between  20 and 300.\n",
    "for i in recipes.index:\n",
    "    if (recipes['food types'][i] == '' or 'Low-calories' not in recipes['food types'][i]) and (20 < float(recipes['calories'][i]) < 300):\n",
    "        if recipes['food types'][i] == '':\n",
    "            recipes.loc[i, 'food types'] = 'Low-calories'\n",
    "        else:\n",
    "            recipes.loc[i, 'food types'] += ', Low-calories'"
   ]
  },
  {
   "cell_type": "code",
   "execution_count": 31,
   "metadata": {},
   "outputs": [
    {
     "name": "stdout",
     "output_type": "stream",
     "text": [
      "Number of recipes in DataFrame: 231637\n",
      "Number of empty 'food types': 40014\n"
     ]
    }
   ],
   "source": [
    "print(f\"Number of recipes in DataFrame: {len(recipes)}\")\n",
    "print(f\"Number of empty 'food types': {len(recipes[recipes['food types'] == ''])}\")"
   ]
  },
  {
   "cell_type": "code",
   "execution_count": 32,
   "metadata": {},
   "outputs": [],
   "source": [
    "non_vegan_ingredients = ['beef', 'pork', 'lamb', 'goat', 'veal', 'chicken', 'turkey', 'duck', 'goose', 'quail',\n",
    "                          'pigeon', 'pheasant', 'fish', 'shellfish', 'shrimp', 'lobster', 'crab', 'clams',\n",
    "                            'mussels', 'squid', 'octopus', 'anchovies', 'sardines', 'tuna', 'salmon', 'trout', \n",
    "                            'cod', 'haddock', 'catfish', 'tilapia', 'mahi-mahi', 'swordfish', 'snapper', 'bass',\n",
    "                              'ham', 'bacon', 'sausage', 'pepperoni', 'prosciutto', 'salami', 'mortadella', \n",
    "                              'bologna', 'hot dogs', 'chicken broth', 'beef broth', 'pork broth', 'fish sauce',\n",
    "                                'oyster sauce', 'hoisin sauce', 'Worcestershire sauce', 'anchovy paste', \n",
    "                                'butter', 'milk', 'cheese', 'yogurt', 'cream', 'sour cream', 'mayonnaise',\n",
    "                                  'eggs', 'honey', 'gelatin']\n"
   ]
  },
  {
   "cell_type": "code",
   "execution_count": 33,
   "metadata": {},
   "outputs": [
    {
     "name": "stdout",
     "output_type": "stream",
     "text": [
      "Number of recipes in DataFrame: 231637\n",
      "Number of empty 'food types': 40014\n"
     ]
    }
   ],
   "source": [
    "print(f\"Number of recipes in DataFrame: {len(recipes)}\")\n",
    "print(f\"Number of empty 'food types': {len(recipes[recipes['food types'] == ''])}\")\n",
    "\n",
    "for i in recipes.index:\n",
    "    if recipes['food types'][i] == '' and any(ingredient in recipes['ingredients'][i].lower() for ingredient in non_vegan_ingredients):\n",
    "        recipes.loc[i, 'food types'] = 'Balanced'\n",
    "        #print(f\"Recipe {i} is assigned 'Balanced' food type.\")\n"
   ]
  },
  {
   "cell_type": "code",
   "execution_count": 34,
   "metadata": {},
   "outputs": [
    {
     "name": "stdout",
     "output_type": "stream",
     "text": [
      "Number of recipes in DataFrame: 231637\n",
      "Number of empty 'food types': 2533\n"
     ]
    }
   ],
   "source": [
    "print(f\"Number of recipes in DataFrame: {len(recipes)}\")\n",
    "print(f\"Number of empty 'food types': {len(recipes[recipes['food types'] == ''])}\")"
   ]
  },
  {
   "cell_type": "code",
   "execution_count": 35,
   "metadata": {},
   "outputs": [
    {
     "name": "stderr",
     "output_type": "stream",
     "text": [
      "C:\\Users\\user\\AppData\\Local\\Temp\\ipykernel_10104\\1724150981.py:3: SettingWithCopyWarning: \n",
      "A value is trying to be set on a copy of a slice from a DataFrame\n",
      "\n",
      "See the caveats in the documentation: https://pandas.pydata.org/pandas-docs/stable/user_guide/indexing.html#returning-a-view-versus-a-copy\n",
      "  recipes['food types'][i]='Veg'\n"
     ]
    }
   ],
   "source": [
    "for i in recipes.index:\n",
    "    if recipes['food types'][i] == '':\n",
    "        recipes['food types'][i]='Veg'"
   ]
  },
  {
   "cell_type": "code",
   "execution_count": 36,
   "metadata": {},
   "outputs": [
    {
     "data": {
      "text/plain": [
       "Gluten-Free                                   76350\n",
       "Gluten-Free, Low-calories                     71906\n",
       "Balanced                                      37481\n",
       "Low-calories                                  28673\n",
       "Veg dessert, Gluten-Free, Low-calories         3392\n",
       "Veg dessert, Gluten-Free                       2702\n",
       "Veg                                            2533\n",
       "Non-Veg dessert                                2118\n",
       "Veg dessert, Low-calories                      2062\n",
       "Non-Veg dessert, Low-calories                  1813\n",
       "Veg dessert                                    1376\n",
       "Non-Veg dessert, Gluten-Free                    879\n",
       "Non-Veg dessert, Gluten-Free, Low-calories      352\n",
       "Name: food types, dtype: int64"
      ]
     },
     "execution_count": 36,
     "metadata": {},
     "output_type": "execute_result"
    }
   ],
   "source": [
    "recipes['food types'].value_counts()"
   ]
  },
  {
   "attachments": {},
   "cell_type": "markdown",
   "metadata": {},
   "source": [
    "# Part II - Exploratory Analysis"
   ]
  },
  {
   "attachments": {},
   "cell_type": "markdown",
   "metadata": {},
   "source": [
    "### 9. Find the outliers for recipes"
   ]
  },
  {
   "cell_type": "code",
   "execution_count": 21,
   "metadata": {},
   "outputs": [
    {
     "data": {
      "text/plain": [
       "name             object\n",
       "id                int64\n",
       "minutes           int64\n",
       "n_steps           int64\n",
       "steps            object\n",
       "ingredients      object\n",
       "n_ingredients     int64\n",
       "calories         object\n",
       "total fat        object\n",
       "sugar            object\n",
       "sodium           object\n",
       "protein          object\n",
       "saturated fat    object\n",
       "carbohydrates    object\n",
       "food types       object\n",
       "dtype: object"
      ]
     },
     "execution_count": 21,
     "metadata": {},
     "output_type": "execute_result"
    }
   ],
   "source": [
    "recipes.dtypes"
   ]
  },
  {
   "cell_type": "code",
   "execution_count": 37,
   "metadata": {},
   "outputs": [],
   "source": [
    "recipes['id'] = recipes['id'].astype('object')\n",
    "recipes['id'].astype('object')\n",
    "cols = ['calories', 'total fat', 'sugar', 'sodium', 'protein', 'saturated fat', 'carbohydrates']\n",
    "recipes[cols] = recipes[cols].apply(pd.to_numeric, errors='coerce')"
   ]
  },
  {
   "cell_type": "code",
   "execution_count": 39,
   "metadata": {},
   "outputs": [
    {
     "data": {
      "text/html": [
       "<div>\n",
       "<style scoped>\n",
       "    .dataframe tbody tr th:only-of-type {\n",
       "        vertical-align: middle;\n",
       "    }\n",
       "\n",
       "    .dataframe tbody tr th {\n",
       "        vertical-align: top;\n",
       "    }\n",
       "\n",
       "    .dataframe thead th {\n",
       "        text-align: right;\n",
       "    }\n",
       "</style>\n",
       "<table border=\"1\" class=\"dataframe\">\n",
       "  <thead>\n",
       "    <tr style=\"text-align: right;\">\n",
       "      <th></th>\n",
       "      <th>minutes</th>\n",
       "      <th>n_steps</th>\n",
       "      <th>n_ingredients</th>\n",
       "      <th>calories</th>\n",
       "      <th>total fat</th>\n",
       "      <th>sugar</th>\n",
       "      <th>sodium</th>\n",
       "      <th>protein</th>\n",
       "      <th>saturated fat</th>\n",
       "      <th>carbohydrates</th>\n",
       "    </tr>\n",
       "  </thead>\n",
       "  <tbody>\n",
       "    <tr>\n",
       "      <th>count</th>\n",
       "      <td>2.316370e+05</td>\n",
       "      <td>231637.00</td>\n",
       "      <td>231637.00</td>\n",
       "      <td>231637.00</td>\n",
       "      <td>231637.00</td>\n",
       "      <td>231637.00</td>\n",
       "      <td>231637.00</td>\n",
       "      <td>231637.00</td>\n",
       "      <td>231637.00</td>\n",
       "      <td>231637.00</td>\n",
       "    </tr>\n",
       "    <tr>\n",
       "      <th>mean</th>\n",
       "      <td>9.398550e+03</td>\n",
       "      <td>9.77</td>\n",
       "      <td>9.05</td>\n",
       "      <td>473.94</td>\n",
       "      <td>36.08</td>\n",
       "      <td>84.30</td>\n",
       "      <td>30.15</td>\n",
       "      <td>34.68</td>\n",
       "      <td>45.59</td>\n",
       "      <td>15.56</td>\n",
       "    </tr>\n",
       "    <tr>\n",
       "      <th>std</th>\n",
       "      <td>4.461963e+06</td>\n",
       "      <td>6.00</td>\n",
       "      <td>3.73</td>\n",
       "      <td>1189.71</td>\n",
       "      <td>77.80</td>\n",
       "      <td>800.08</td>\n",
       "      <td>131.96</td>\n",
       "      <td>58.47</td>\n",
       "      <td>98.24</td>\n",
       "      <td>81.82</td>\n",
       "    </tr>\n",
       "    <tr>\n",
       "      <th>min</th>\n",
       "      <td>0.000000e+00</td>\n",
       "      <td>0.00</td>\n",
       "      <td>1.00</td>\n",
       "      <td>0.00</td>\n",
       "      <td>0.00</td>\n",
       "      <td>0.00</td>\n",
       "      <td>0.00</td>\n",
       "      <td>0.00</td>\n",
       "      <td>0.00</td>\n",
       "      <td>0.00</td>\n",
       "    </tr>\n",
       "    <tr>\n",
       "      <th>25%</th>\n",
       "      <td>2.000000e+01</td>\n",
       "      <td>6.00</td>\n",
       "      <td>6.00</td>\n",
       "      <td>174.40</td>\n",
       "      <td>8.00</td>\n",
       "      <td>9.00</td>\n",
       "      <td>5.00</td>\n",
       "      <td>7.00</td>\n",
       "      <td>7.00</td>\n",
       "      <td>4.00</td>\n",
       "    </tr>\n",
       "    <tr>\n",
       "      <th>50%</th>\n",
       "      <td>4.000000e+01</td>\n",
       "      <td>9.00</td>\n",
       "      <td>9.00</td>\n",
       "      <td>313.40</td>\n",
       "      <td>20.00</td>\n",
       "      <td>25.00</td>\n",
       "      <td>14.00</td>\n",
       "      <td>18.00</td>\n",
       "      <td>23.00</td>\n",
       "      <td>9.00</td>\n",
       "    </tr>\n",
       "    <tr>\n",
       "      <th>75%</th>\n",
       "      <td>6.500000e+01</td>\n",
       "      <td>12.00</td>\n",
       "      <td>11.00</td>\n",
       "      <td>519.70</td>\n",
       "      <td>41.00</td>\n",
       "      <td>68.00</td>\n",
       "      <td>33.00</td>\n",
       "      <td>51.00</td>\n",
       "      <td>52.00</td>\n",
       "      <td>16.00</td>\n",
       "    </tr>\n",
       "    <tr>\n",
       "      <th>max</th>\n",
       "      <td>2.147484e+09</td>\n",
       "      <td>145.00</td>\n",
       "      <td>43.00</td>\n",
       "      <td>434360.20</td>\n",
       "      <td>17183.00</td>\n",
       "      <td>362729.00</td>\n",
       "      <td>29338.00</td>\n",
       "      <td>6552.00</td>\n",
       "      <td>10395.00</td>\n",
       "      <td>36098.00</td>\n",
       "    </tr>\n",
       "  </tbody>\n",
       "</table>\n",
       "</div>"
      ],
      "text/plain": [
       "            minutes    n_steps  n_ingredients   calories  total fat  \\\n",
       "count  2.316370e+05  231637.00      231637.00  231637.00  231637.00   \n",
       "mean   9.398550e+03       9.77           9.05     473.94      36.08   \n",
       "std    4.461963e+06       6.00           3.73    1189.71      77.80   \n",
       "min    0.000000e+00       0.00           1.00       0.00       0.00   \n",
       "25%    2.000000e+01       6.00           6.00     174.40       8.00   \n",
       "50%    4.000000e+01       9.00           9.00     313.40      20.00   \n",
       "75%    6.500000e+01      12.00          11.00     519.70      41.00   \n",
       "max    2.147484e+09     145.00          43.00  434360.20   17183.00   \n",
       "\n",
       "           sugar     sodium    protein  saturated fat  carbohydrates  \n",
       "count  231637.00  231637.00  231637.00      231637.00      231637.00  \n",
       "mean       84.30      30.15      34.68          45.59          15.56  \n",
       "std       800.08     131.96      58.47          98.24          81.82  \n",
       "min         0.00       0.00       0.00           0.00           0.00  \n",
       "25%         9.00       5.00       7.00           7.00           4.00  \n",
       "50%        25.00      14.00      18.00          23.00           9.00  \n",
       "75%        68.00      33.00      51.00          52.00          16.00  \n",
       "max    362729.00   29338.00    6552.00       10395.00       36098.00  "
      ]
     },
     "execution_count": 39,
     "metadata": {},
     "output_type": "execute_result"
    }
   ],
   "source": [
    "recipes.describe().round(2)"
   ]
  },
  {
   "cell_type": "code",
   "execution_count": 20,
   "metadata": {},
   "outputs": [
    {
     "data": {
      "image/png": "[encoded data removed]",
      "text/plain": [
       "<Figure size 640x480 with 1 Axes>"
      ]
     },
     "metadata": {},
     "output_type": "display_data"
    }
   ],
   "source": [
    "#chacking for outliers\n",
    "import matplotlib.pyplot as plt\n",
    "xtick_positions = range(1, 8)\n",
    "xtick_labels = ['calories', 'total fat', 'sugar', 'sodium', 'protein', 'saturated fat', 'carbohydrates']\n",
    "# Create a box plot of the 'nutrition' columns\n",
    "plt.boxplot(recipes[['calories', 'total fat', 'sugar', 'sodium', 'protein', 'saturated fat', 'carbohydrates']])\n",
    "\n",
    "# Add labels and title\n",
    "plt.xlabel('Nutritions')\n",
    "plt.ylabel('Values of Nutritions')\n",
    "plt.title('Distribution of Nutritions in Recipes')\n",
    "plt.gca().set_xticklabels(xtick_labels, rotation=45, ha='right')\n",
    "\n",
    "# Show the plot# Show the plot\n",
    "plt.show()\n"
   ]
  },
  {
   "cell_type": "code",
   "execution_count": 38,
   "metadata": {},
   "outputs": [
    {
     "data": {
      "text/plain": [
       "Text(0.5, 1.0, 'Distribution of Ingredient in Recipes')"
      ]
     },
     "execution_count": 38,
     "metadata": {},
     "output_type": "execute_result"
    },
    {
     "data": {
      "image/png": "[encoded data removed]",
      "text/plain": [
       "<Figure size 640x480 with 1 Axes>"
      ]
     },
     "metadata": {},
     "output_type": "display_data"
    }
   ],
   "source": [
    "plt.boxplot(recipes['n_ingredients'])\n",
    "# Add labels and title\n",
    "plt.xlabel(\"Column of 'n_ingredients'\")\n",
    "plt.ylabel('Number of ingredients')\n",
    "plt.title('Distribution of Ingredient in Recipes')"
   ]
  },
  {
   "cell_type": "code",
   "execution_count": 40,
   "metadata": {},
   "outputs": [
    {
     "name": "stdout",
     "output_type": "stream",
     "text": [
      "name              object\n",
      "id                object\n",
      "minutes            int64\n",
      "submitted         object\n",
      "n_steps            int64\n",
      "steps             object\n",
      "ingredients       object\n",
      "n_ingredients      int64\n",
      "calories         float64\n",
      "total fat        float64\n",
      "sugar            float64\n",
      "sodium           float64\n",
      "protein          float64\n",
      "saturated fat    float64\n",
      "carbohydrates    float64\n",
      "food types        object\n",
      "dtype: object\n",
      "231396 rows remaining in the DataFrame.\n"
     ]
    }
   ],
   "source": [
    "if recipes is not None:\n",
    "    # check the column names and data types\n",
    "    print(recipes.dtypes)\n",
    "\n",
    "    try:\n",
    "        # drop the outliers\n",
    "        recipes = recipes.drop(recipes[recipes['sugar'] > 350000].index, axis=0)\n",
    "        recipes = recipes.drop(recipes[recipes['sodium'] > 20000].index, axis=0)\n",
    "        recipes = recipes.drop(recipes[recipes['protein'] > 4500].index, axis=0)\n",
    "        recipes = recipes.drop(recipes[recipes['saturated fat'] > 10000].index, axis=0)\n",
    "        recipes = recipes.drop(recipes[recipes['total fat'] > 17000].index, axis=0)\n",
    "        recipes = recipes.drop(recipes[recipes['n_ingredients'] > 25].index, axis=0)\n",
    "\n",
    "\n",
    "        # print the number of rows remaining\n",
    "        print(f\"{len(recipes)} rows remaining in the DataFrame.\")\n",
    "    except KeyError as e:\n",
    "        print(f\"Error: {e} is not a valid column name.\")\n",
    "    except Exception as e:\n",
    "        print(f\"Error: {e}\")\n",
    "else:\n",
    "    print(\"Error: DataFrame 'recipes' is not defined.\")\n"
   ]
  },
  {
   "cell_type": "code",
   "execution_count": 113,
   "metadata": {},
   "outputs": [
    {
     "data": {
      "text/html": [
       "<div>\n",
       "<style scoped>\n",
       "    .dataframe tbody tr th:only-of-type {\n",
       "        vertical-align: middle;\n",
       "    }\n",
       "\n",
       "    .dataframe tbody tr th {\n",
       "        vertical-align: top;\n",
       "    }\n",
       "\n",
       "    .dataframe thead th {\n",
       "        text-align: right;\n",
       "    }\n",
       "</style>\n",
       "<table border=\"1\" class=\"dataframe\">\n",
       "  <thead>\n",
       "    <tr style=\"text-align: right;\">\n",
       "      <th></th>\n",
       "      <th>count</th>\n",
       "      <th>mean</th>\n",
       "      <th>std</th>\n",
       "      <th>min</th>\n",
       "      <th>25%</th>\n",
       "      <th>50%</th>\n",
       "      <th>75%</th>\n",
       "      <th>max</th>\n",
       "    </tr>\n",
       "  </thead>\n",
       "  <tbody>\n",
       "    <tr>\n",
       "      <th>minutes</th>\n",
       "      <td>231631.0</td>\n",
       "      <td>9398.787002</td>\n",
       "      <td>4.462021e+06</td>\n",
       "      <td>0.0</td>\n",
       "      <td>20.0</td>\n",
       "      <td>40.0</td>\n",
       "      <td>65.0</td>\n",
       "      <td>2.147484e+09</td>\n",
       "    </tr>\n",
       "    <tr>\n",
       "      <th>n_steps</th>\n",
       "      <td>231631.0</td>\n",
       "      <td>9.765511</td>\n",
       "      <td>5.995160e+00</td>\n",
       "      <td>0.0</td>\n",
       "      <td>6.0</td>\n",
       "      <td>9.0</td>\n",
       "      <td>12.0</td>\n",
       "      <td>1.450000e+02</td>\n",
       "    </tr>\n",
       "    <tr>\n",
       "      <th>n_ingredients</th>\n",
       "      <td>231631.0</td>\n",
       "      <td>9.051168</td>\n",
       "      <td>3.734771e+00</td>\n",
       "      <td>1.0</td>\n",
       "      <td>6.0</td>\n",
       "      <td>9.0</td>\n",
       "      <td>11.0</td>\n",
       "      <td>4.300000e+01</td>\n",
       "    </tr>\n",
       "    <tr>\n",
       "      <th>calories</th>\n",
       "      <td>231631.0</td>\n",
       "      <td>471.105525</td>\n",
       "      <td>7.356200e+02</td>\n",
       "      <td>0.0</td>\n",
       "      <td>174.3</td>\n",
       "      <td>313.4</td>\n",
       "      <td>519.7</td>\n",
       "      <td>4.560900e+04</td>\n",
       "    </tr>\n",
       "    <tr>\n",
       "      <th>total fat</th>\n",
       "      <td>231631.0</td>\n",
       "      <td>35.950382</td>\n",
       "      <td>6.763040e+01</td>\n",
       "      <td>0.0</td>\n",
       "      <td>8.0</td>\n",
       "      <td>20.0</td>\n",
       "      <td>41.0</td>\n",
       "      <td>3.464000e+03</td>\n",
       "    </tr>\n",
       "    <tr>\n",
       "      <th>sugar</th>\n",
       "      <td>231631.0</td>\n",
       "      <td>82.668619</td>\n",
       "      <td>2.673625e+02</td>\n",
       "      <td>0.0</td>\n",
       "      <td>9.0</td>\n",
       "      <td>25.0</td>\n",
       "      <td>68.0</td>\n",
       "      <td>3.026000e+04</td>\n",
       "    </tr>\n",
       "    <tr>\n",
       "      <th>sodium</th>\n",
       "      <td>231631.0</td>\n",
       "      <td>30.006048</td>\n",
       "      <td>1.170168e+02</td>\n",
       "      <td>0.0</td>\n",
       "      <td>5.0</td>\n",
       "      <td>14.0</td>\n",
       "      <td>33.0</td>\n",
       "      <td>1.466400e+04</td>\n",
       "    </tr>\n",
       "    <tr>\n",
       "      <th>protein</th>\n",
       "      <td>231631.0</td>\n",
       "      <td>34.581645</td>\n",
       "      <td>5.363958e+01</td>\n",
       "      <td>0.0</td>\n",
       "      <td>7.0</td>\n",
       "      <td>18.0</td>\n",
       "      <td>51.0</td>\n",
       "      <td>4.356000e+03</td>\n",
       "    </tr>\n",
       "    <tr>\n",
       "      <th>saturated fat</th>\n",
       "      <td>231631.0</td>\n",
       "      <td>45.483657</td>\n",
       "      <td>9.444427e+01</td>\n",
       "      <td>0.0</td>\n",
       "      <td>7.0</td>\n",
       "      <td>23.0</td>\n",
       "      <td>52.0</td>\n",
       "      <td>6.875000e+03</td>\n",
       "    </tr>\n",
       "    <tr>\n",
       "      <th>carbohydrates</th>\n",
       "      <td>231631.0</td>\n",
       "      <td>15.398539</td>\n",
       "      <td>3.264751e+01</td>\n",
       "      <td>0.0</td>\n",
       "      <td>4.0</td>\n",
       "      <td>9.0</td>\n",
       "      <td>16.0</td>\n",
       "      <td>3.007000e+03</td>\n",
       "    </tr>\n",
       "  </tbody>\n",
       "</table>\n",
       "</div>"
      ],
      "text/plain": [
       "                  count         mean           std  min    25%    50%    75%  \\\n",
       "minutes        231631.0  9398.787002  4.462021e+06  0.0   20.0   40.0   65.0   \n",
       "n_steps        231631.0     9.765511  5.995160e+00  0.0    6.0    9.0   12.0   \n",
       "n_ingredients  231631.0     9.051168  3.734771e+00  1.0    6.0    9.0   11.0   \n",
       "calories       231631.0   471.105525  7.356200e+02  0.0  174.3  313.4  519.7   \n",
       "total fat      231631.0    35.950382  6.763040e+01  0.0    8.0   20.0   41.0   \n",
       "sugar          231631.0    82.668619  2.673625e+02  0.0    9.0   25.0   68.0   \n",
       "sodium         231631.0    30.006048  1.170168e+02  0.0    5.0   14.0   33.0   \n",
       "protein        231631.0    34.581645  5.363958e+01  0.0    7.0   18.0   51.0   \n",
       "saturated fat  231631.0    45.483657  9.444427e+01  0.0    7.0   23.0   52.0   \n",
       "carbohydrates  231631.0    15.398539  3.264751e+01  0.0    4.0    9.0   16.0   \n",
       "\n",
       "                        max  \n",
       "minutes        2.147484e+09  \n",
       "n_steps        1.450000e+02  \n",
       "n_ingredients  4.300000e+01  \n",
       "calories       4.560900e+04  \n",
       "total fat      3.464000e+03  \n",
       "sugar          3.026000e+04  \n",
       "sodium         1.466400e+04  \n",
       "protein        4.356000e+03  \n",
       "saturated fat  6.875000e+03  \n",
       "carbohydrates  3.007000e+03  "
      ]
     },
     "execution_count": 113,
     "metadata": {},
     "output_type": "execute_result"
    }
   ],
   "source": [
    "recipes.describe().transpose()"
   ]
  },
  {
   "attachments": {},
   "cell_type": "markdown",
   "metadata": {},
   "source": [
    "### 10. Creating new features"
   ]
  },
  {
   "cell_type": "code",
   "execution_count": 41,
   "metadata": {},
   "outputs": [
    {
     "data": {
      "text/html": [
       "<div>\n",
       "<style scoped>\n",
       "    .dataframe tbody tr th:only-of-type {\n",
       "        vertical-align: middle;\n",
       "    }\n",
       "\n",
       "    .dataframe tbody tr th {\n",
       "        vertical-align: top;\n",
       "    }\n",
       "\n",
       "    .dataframe thead th {\n",
       "        text-align: right;\n",
       "    }\n",
       "</style>\n",
       "<table border=\"1\" class=\"dataframe\">\n",
       "  <thead>\n",
       "    <tr style=\"text-align: right;\">\n",
       "      <th></th>\n",
       "      <th>recipe_id</th>\n",
       "      <th>date</th>\n",
       "      <th>rating</th>\n",
       "      <th>rating_mean</th>\n",
       "    </tr>\n",
       "  </thead>\n",
       "  <tbody>\n",
       "    <tr>\n",
       "      <th>0</th>\n",
       "      <td>40893</td>\n",
       "      <td>2003-02-17</td>\n",
       "      <td>4</td>\n",
       "      <td>4.5</td>\n",
       "    </tr>\n",
       "    <tr>\n",
       "      <th>1</th>\n",
       "      <td>40893</td>\n",
       "      <td>2011-12-21</td>\n",
       "      <td>5</td>\n",
       "      <td>4.5</td>\n",
       "    </tr>\n",
       "    <tr>\n",
       "      <th>2</th>\n",
       "      <td>44394</td>\n",
       "      <td>2002-12-01</td>\n",
       "      <td>4</td>\n",
       "      <td>4.0</td>\n",
       "    </tr>\n",
       "    <tr>\n",
       "      <th>3</th>\n",
       "      <td>85009</td>\n",
       "      <td>2010-02-27</td>\n",
       "      <td>5</td>\n",
       "      <td>5.0</td>\n",
       "    </tr>\n",
       "    <tr>\n",
       "      <th>4</th>\n",
       "      <td>85009</td>\n",
       "      <td>2011-10-01</td>\n",
       "      <td>5</td>\n",
       "      <td>5.0</td>\n",
       "    </tr>\n",
       "  </tbody>\n",
       "</table>\n",
       "</div>"
      ],
      "text/plain": [
       "   recipe_id        date  rating  rating_mean\n",
       "0      40893  2003-02-17       4          4.5\n",
       "1      40893  2011-12-21       5          4.5\n",
       "2      44394  2002-12-01       4          4.0\n",
       "3      85009  2010-02-27       5          5.0\n",
       "4      85009  2011-10-01       5          5.0"
      ]
     },
     "execution_count": 41,
     "metadata": {},
     "output_type": "execute_result"
    }
   ],
   "source": [
    "#creating mean rating column\n",
    "mean_rating : pd.DataFrame=rating.groupby(['recipe_id']).agg({'rating' :'mean'})\n",
    "mean_rating=mean_rating.reset_index()\n",
    "mean_rating.rename(columns={'rating':'rating_mean'}, inplace=True)\n",
    "ratings_new=pd.merge(rating, mean_rating, on='recipe_id')\n",
    "ratings_new.head()"
   ]
  },
  {
   "attachments": {},
   "cell_type": "markdown",
   "metadata": {},
   "source": [
    "### 11. Checking unique ID connection between 2 datasets"
   ]
  },
  {
   "cell_type": "code",
   "execution_count": 42,
   "metadata": {},
   "outputs": [
    {
     "data": {
      "text/html": [
       "<div>\n",
       "<style scoped>\n",
       "    .dataframe tbody tr th:only-of-type {\n",
       "        vertical-align: middle;\n",
       "    }\n",
       "\n",
       "    .dataframe tbody tr th {\n",
       "        vertical-align: top;\n",
       "    }\n",
       "\n",
       "    .dataframe thead th {\n",
       "        text-align: right;\n",
       "    }\n",
       "</style>\n",
       "<table border=\"1\" class=\"dataframe\">\n",
       "  <thead>\n",
       "    <tr style=\"text-align: right;\">\n",
       "      <th></th>\n",
       "      <th>recipe_id</th>\n",
       "      <th>date</th>\n",
       "      <th>rating</th>\n",
       "      <th>rating_mean</th>\n",
       "    </tr>\n",
       "  </thead>\n",
       "  <tbody>\n",
       "    <tr>\n",
       "      <th>0</th>\n",
       "      <td>40893</td>\n",
       "      <td>2003-02-17</td>\n",
       "      <td>4</td>\n",
       "      <td>4.5</td>\n",
       "    </tr>\n",
       "    <tr>\n",
       "      <th>1</th>\n",
       "      <td>40893</td>\n",
       "      <td>2011-12-21</td>\n",
       "      <td>5</td>\n",
       "      <td>4.5</td>\n",
       "    </tr>\n",
       "    <tr>\n",
       "      <th>2</th>\n",
       "      <td>44394</td>\n",
       "      <td>2002-12-01</td>\n",
       "      <td>4</td>\n",
       "      <td>4.0</td>\n",
       "    </tr>\n",
       "    <tr>\n",
       "      <th>3</th>\n",
       "      <td>85009</td>\n",
       "      <td>2010-02-27</td>\n",
       "      <td>5</td>\n",
       "      <td>5.0</td>\n",
       "    </tr>\n",
       "    <tr>\n",
       "      <th>4</th>\n",
       "      <td>85009</td>\n",
       "      <td>2011-10-01</td>\n",
       "      <td>5</td>\n",
       "      <td>5.0</td>\n",
       "    </tr>\n",
       "  </tbody>\n",
       "</table>\n",
       "</div>"
      ],
      "text/plain": [
       "   recipe_id        date  rating  rating_mean\n",
       "0      40893  2003-02-17       4          4.5\n",
       "1      40893  2011-12-21       5          4.5\n",
       "2      44394  2002-12-01       4          4.0\n",
       "3      85009  2010-02-27       5          5.0\n",
       "4      85009  2011-10-01       5          5.0"
      ]
     },
     "execution_count": 42,
     "metadata": {},
     "output_type": "execute_result"
    }
   ],
   "source": [
    "ratings_new.head()"
   ]
  },
  {
   "cell_type": "code",
   "execution_count": 47,
   "metadata": {},
   "outputs": [
    {
     "data": {
      "text/plain": [
       "231396"
      ]
     },
     "execution_count": 47,
     "metadata": {},
     "output_type": "execute_result"
    }
   ],
   "source": [
    "# Group the second dataframe by recipe_id and aggregate the values as a list\n",
    "rating_agg = ratings_new.groupby('recipe_id').agg({'rating': 'mean'}).reset_index()\n",
    "\n",
    "# Perform a left join on the 'id' and 'recipe_id' columns\n",
    "recipes = pd.merge(recipes, rating_agg, left_on='id', right_on='recipe_id', how='left')\n",
    "\n",
    "#dropping recipe_id column\n",
    "recipes = recipes.drop(['recipe_id'], axis = 1)\n",
    "# Print the merged dataframe\n",
    "len(recipes)"
   ]
  },
  {
   "cell_type": "code",
   "execution_count": 48,
   "metadata": {},
   "outputs": [
    {
     "data": {
      "text/html": [
       "<div>\n",
       "<style scoped>\n",
       "    .dataframe tbody tr th:only-of-type {\n",
       "        vertical-align: middle;\n",
       "    }\n",
       "\n",
       "    .dataframe tbody tr th {\n",
       "        vertical-align: top;\n",
       "    }\n",
       "\n",
       "    .dataframe thead th {\n",
       "        text-align: right;\n",
       "    }\n",
       "</style>\n",
       "<table border=\"1\" class=\"dataframe\">\n",
       "  <thead>\n",
       "    <tr style=\"text-align: right;\">\n",
       "      <th></th>\n",
       "      <th>name</th>\n",
       "      <th>id</th>\n",
       "      <th>minutes</th>\n",
       "      <th>submitted</th>\n",
       "      <th>n_steps</th>\n",
       "      <th>steps</th>\n",
       "      <th>ingredients</th>\n",
       "      <th>n_ingredients</th>\n",
       "      <th>calories</th>\n",
       "      <th>total fat</th>\n",
       "      <th>sugar</th>\n",
       "      <th>sodium</th>\n",
       "      <th>protein</th>\n",
       "      <th>saturated fat</th>\n",
       "      <th>carbohydrates</th>\n",
       "      <th>food types</th>\n",
       "      <th>recipe_id_x</th>\n",
       "      <th>rating_x</th>\n",
       "      <th>recipe_id_y</th>\n",
       "      <th>rating_y</th>\n",
       "      <th>rating</th>\n",
       "    </tr>\n",
       "  </thead>\n",
       "  <tbody>\n",
       "    <tr>\n",
       "      <th>0</th>\n",
       "      <td>arriba   baked winter squash mexican style</td>\n",
       "      <td>137739</td>\n",
       "      <td>55</td>\n",
       "      <td>2005-09-16</td>\n",
       "      <td>11</td>\n",
       "      <td>1. make a choice and proceed with recipe 2. de...</td>\n",
       "      <td>['winter squash', 'mexican seasoning', 'mixed ...</td>\n",
       "      <td>7</td>\n",
       "      <td>51.5</td>\n",
       "      <td>0.0</td>\n",
       "      <td>13.0</td>\n",
       "      <td>0.0</td>\n",
       "      <td>2.0</td>\n",
       "      <td>0.0</td>\n",
       "      <td>4.0</td>\n",
       "      <td>Gluten-Free, Low-calories</td>\n",
       "      <td>137739</td>\n",
       "      <td>5.0</td>\n",
       "      <td>137739</td>\n",
       "      <td>5.0</td>\n",
       "      <td>5.0</td>\n",
       "    </tr>\n",
       "    <tr>\n",
       "      <th>1</th>\n",
       "      <td>a bit different  breakfast pizza</td>\n",
       "      <td>31490</td>\n",
       "      <td>30</td>\n",
       "      <td>2002-06-17</td>\n",
       "      <td>9</td>\n",
       "      <td>1. preheat oven to 425 degrees f 2. press doug...</td>\n",
       "      <td>['prepared pizza crust', 'sausage patty', 'egg...</td>\n",
       "      <td>6</td>\n",
       "      <td>173.4</td>\n",
       "      <td>18.0</td>\n",
       "      <td>0.0</td>\n",
       "      <td>17.0</td>\n",
       "      <td>22.0</td>\n",
       "      <td>35.0</td>\n",
       "      <td>1.0</td>\n",
       "      <td>Gluten-Free, Low-calories</td>\n",
       "      <td>31490</td>\n",
       "      <td>3.5</td>\n",
       "      <td>31490</td>\n",
       "      <td>3.5</td>\n",
       "      <td>3.5</td>\n",
       "    </tr>\n",
       "    <tr>\n",
       "      <th>2</th>\n",
       "      <td>all in the kitchen  chili</td>\n",
       "      <td>112140</td>\n",
       "      <td>130</td>\n",
       "      <td>2005-02-25</td>\n",
       "      <td>6</td>\n",
       "      <td>1. brown ground beef in large pot 2. add chopp...</td>\n",
       "      <td>['ground beef', 'yellow onions', 'diced tomato...</td>\n",
       "      <td>13</td>\n",
       "      <td>269.8</td>\n",
       "      <td>22.0</td>\n",
       "      <td>32.0</td>\n",
       "      <td>48.0</td>\n",
       "      <td>39.0</td>\n",
       "      <td>27.0</td>\n",
       "      <td>5.0</td>\n",
       "      <td>Gluten-Free, Low-calories</td>\n",
       "      <td>112140</td>\n",
       "      <td>4.0</td>\n",
       "      <td>112140</td>\n",
       "      <td>4.0</td>\n",
       "      <td>4.0</td>\n",
       "    </tr>\n",
       "    <tr>\n",
       "      <th>3</th>\n",
       "      <td>alouette  potatoes</td>\n",
       "      <td>59389</td>\n",
       "      <td>45</td>\n",
       "      <td>2003-04-14</td>\n",
       "      <td>11</td>\n",
       "      <td>1. place potatoes in a large pot of lightly sa...</td>\n",
       "      <td>['spreadable cheese with garlic and herbs', 'n...</td>\n",
       "      <td>11</td>\n",
       "      <td>368.1</td>\n",
       "      <td>17.0</td>\n",
       "      <td>10.0</td>\n",
       "      <td>2.0</td>\n",
       "      <td>14.0</td>\n",
       "      <td>8.0</td>\n",
       "      <td>20.0</td>\n",
       "      <td>Gluten-Free</td>\n",
       "      <td>59389</td>\n",
       "      <td>4.5</td>\n",
       "      <td>59389</td>\n",
       "      <td>4.5</td>\n",
       "      <td>4.5</td>\n",
       "    </tr>\n",
       "    <tr>\n",
       "      <th>4</th>\n",
       "      <td>amish  tomato ketchup  for canning</td>\n",
       "      <td>44061</td>\n",
       "      <td>190</td>\n",
       "      <td>2002-10-25</td>\n",
       "      <td>5</td>\n",
       "      <td>1. mix all ingredients&amp; boil for 2 1  2 hours ...</td>\n",
       "      <td>['tomato juice', 'apple cider vinegar', 'sugar...</td>\n",
       "      <td>8</td>\n",
       "      <td>352.9</td>\n",
       "      <td>1.0</td>\n",
       "      <td>337.0</td>\n",
       "      <td>23.0</td>\n",
       "      <td>3.0</td>\n",
       "      <td>0.0</td>\n",
       "      <td>28.0</td>\n",
       "      <td>Gluten-Free</td>\n",
       "      <td>44061</td>\n",
       "      <td>5.0</td>\n",
       "      <td>44061</td>\n",
       "      <td>5.0</td>\n",
       "      <td>5.0</td>\n",
       "    </tr>\n",
       "  </tbody>\n",
       "</table>\n",
       "</div>"
      ],
      "text/plain": [
       "                                         name      id  minutes   submitted  \\\n",
       "0  arriba   baked winter squash mexican style  137739       55  2005-09-16   \n",
       "1            a bit different  breakfast pizza   31490       30  2002-06-17   \n",
       "2                   all in the kitchen  chili  112140      130  2005-02-25   \n",
       "3                          alouette  potatoes   59389       45  2003-04-14   \n",
       "4          amish  tomato ketchup  for canning   44061      190  2002-10-25   \n",
       "\n",
       "   n_steps                                              steps  \\\n",
       "0       11  1. make a choice and proceed with recipe 2. de...   \n",
       "1        9  1. preheat oven to 425 degrees f 2. press doug...   \n",
       "2        6  1. brown ground beef in large pot 2. add chopp...   \n",
       "3       11  1. place potatoes in a large pot of lightly sa...   \n",
       "4        5  1. mix all ingredients& boil for 2 1  2 hours ...   \n",
       "\n",
       "                                         ingredients  n_ingredients  calories  \\\n",
       "0  ['winter squash', 'mexican seasoning', 'mixed ...              7      51.5   \n",
       "1  ['prepared pizza crust', 'sausage patty', 'egg...              6     173.4   \n",
       "2  ['ground beef', 'yellow onions', 'diced tomato...             13     269.8   \n",
       "3  ['spreadable cheese with garlic and herbs', 'n...             11     368.1   \n",
       "4  ['tomato juice', 'apple cider vinegar', 'sugar...              8     352.9   \n",
       "\n",
       "   total fat  sugar  sodium  protein  saturated fat  carbohydrates  \\\n",
       "0        0.0   13.0     0.0      2.0            0.0            4.0   \n",
       "1       18.0    0.0    17.0     22.0           35.0            1.0   \n",
       "2       22.0   32.0    48.0     39.0           27.0            5.0   \n",
       "3       17.0   10.0     2.0     14.0            8.0           20.0   \n",
       "4        1.0  337.0    23.0      3.0            0.0           28.0   \n",
       "\n",
       "                  food types  recipe_id_x  rating_x  recipe_id_y  rating_y  \\\n",
       "0  Gluten-Free, Low-calories       137739       5.0       137739       5.0   \n",
       "1  Gluten-Free, Low-calories        31490       3.5        31490       3.5   \n",
       "2  Gluten-Free, Low-calories       112140       4.0       112140       4.0   \n",
       "3                Gluten-Free        59389       4.5        59389       4.5   \n",
       "4                Gluten-Free        44061       5.0        44061       5.0   \n",
       "\n",
       "   rating  \n",
       "0     5.0  \n",
       "1     3.5  \n",
       "2     4.0  \n",
       "3     4.5  \n",
       "4     5.0  "
      ]
     },
     "execution_count": 48,
     "metadata": {},
     "output_type": "execute_result"
    }
   ],
   "source": [
    "recipes.head()"
   ]
  },
  {
   "cell_type": "code",
   "execution_count": 44,
   "metadata": {},
   "outputs": [
    {
     "data": {
      "text/plain": [
       "name             0\n",
       "id               0\n",
       "minutes          0\n",
       "submitted        0\n",
       "n_steps          0\n",
       "steps            0\n",
       "ingredients      0\n",
       "n_ingredients    0\n",
       "calories         0\n",
       "total fat        0\n",
       "sugar            0\n",
       "sodium           0\n",
       "protein          0\n",
       "saturated fat    0\n",
       "carbohydrates    0\n",
       "food types       0\n",
       "recipe_id        0\n",
       "rating           0\n",
       "dtype: int64"
      ]
     },
     "execution_count": 44,
     "metadata": {},
     "output_type": "execute_result"
    }
   ],
   "source": [
    "recipes.isna().sum()"
   ]
  },
  {
   "attachments": {},
   "cell_type": "markdown",
   "metadata": {},
   "source": [
    "### 12. Splitting ingredients column"
   ]
  },
  {
   "cell_type": "code",
   "execution_count": 65,
   "metadata": {},
   "outputs": [
    {
     "data": {
      "text/html": [
       "<div>\n",
       "<style scoped>\n",
       "    .dataframe tbody tr th:only-of-type {\n",
       "        vertical-align: middle;\n",
       "    }\n",
       "\n",
       "    .dataframe tbody tr th {\n",
       "        vertical-align: top;\n",
       "    }\n",
       "\n",
       "    .dataframe thead th {\n",
       "        text-align: right;\n",
       "    }\n",
       "</style>\n",
       "<table border=\"1\" class=\"dataframe\">\n",
       "  <thead>\n",
       "    <tr style=\"text-align: right;\">\n",
       "      <th></th>\n",
       "      <th>Ingredient</th>\n",
       "      <th>ID</th>\n",
       "    </tr>\n",
       "  </thead>\n",
       "  <tbody>\n",
       "    <tr>\n",
       "      <th>1</th>\n",
       "      <td>winter squash</td>\n",
       "      <td>1</td>\n",
       "    </tr>\n",
       "    <tr>\n",
       "      <th>2</th>\n",
       "      <td>mexican seasoning</td>\n",
       "      <td>2</td>\n",
       "    </tr>\n",
       "    <tr>\n",
       "      <th>3</th>\n",
       "      <td>mixed spice</td>\n",
       "      <td>3</td>\n",
       "    </tr>\n",
       "    <tr>\n",
       "      <th>4</th>\n",
       "      <td>honey</td>\n",
       "      <td>4</td>\n",
       "    </tr>\n",
       "    <tr>\n",
       "      <th>5</th>\n",
       "      <td>butter</td>\n",
       "      <td>5</td>\n",
       "    </tr>\n",
       "  </tbody>\n",
       "</table>\n",
       "</div>"
      ],
      "text/plain": [
       "          Ingredient  ID\n",
       "1      winter squash   1\n",
       "2  mexican seasoning   2\n",
       "3        mixed spice   3\n",
       "4              honey   4\n",
       "5             butter   5"
      ]
     },
     "execution_count": 65,
     "metadata": {},
     "output_type": "execute_result"
    }
   ],
   "source": [
    "#Creating unique ingredient df\n",
    "unique_ingredient = pd.DataFrame(unique_ingredients, columns=['Ingredient'])\n",
    "ingr_df = unique_ingredient.reset_index(drop=True)\n",
    "ingr_df.index += 1\n",
    "\n",
    "# Generate unique integer IDs for each row\n",
    "ingr_df['ID'] = range(1, len(ingr_df) + 1)\n",
    "# Filter out duplicate ingredients in ingr_df\n",
    "ingr_df = ingr_df.drop_duplicates(subset='Ingredient')\n",
    "ingr_df.head()\n"
   ]
  },
  {
   "cell_type": "code",
   "execution_count": 27,
   "metadata": {},
   "outputs": [
    {
     "name": "stdout",
     "output_type": "stream",
     "text": [
      "1 False\n"
     ]
    }
   ],
   "source": [
    "#searching for duplicates\n",
    "duplica_ingr = ingr_df.duplicated(keep=False)\n",
    "len(duplica_ingr)\n",
    "\n",
    "for row in duplica_ingr.keys():\n",
    "    if row == True:\n",
    "        print(row, duplica_ingr[row])"
   ]
  },
  {
   "attachments": {},
   "cell_type": "markdown",
   "metadata": {},
   "source": [
    "### 13. Preparing and Exporting to MySQL"
   ]
  },
  {
   "cell_type": "code",
   "execution_count": 63,
   "metadata": {},
   "outputs": [
    {
     "name": "stderr",
     "output_type": "stream",
     "text": [
      "C:\\Users\\user\\AppData\\Local\\Temp\\ipykernel_10104\\1796935899.py:3: SettingWithCopyWarning: \n",
      "A value is trying to be set on a copy of a slice from a DataFrame.\n",
      "Try using .loc[row_indexer,col_indexer] = value instead\n",
      "\n",
      "See the caveats in the documentation: https://pandas.pydata.org/pandas-docs/stable/user_guide/indexing.html#returning-a-view-versus-a-copy\n",
      "  rec_splitted['ingredients'] = rec_splitted['ingredients'].str.split(',')\n"
     ]
    },
    {
     "data": {
      "text/html": [
       "<div>\n",
       "<style scoped>\n",
       "    .dataframe tbody tr th:only-of-type {\n",
       "        vertical-align: middle;\n",
       "    }\n",
       "\n",
       "    .dataframe tbody tr th {\n",
       "        vertical-align: top;\n",
       "    }\n",
       "\n",
       "    .dataframe thead th {\n",
       "        text-align: right;\n",
       "    }\n",
       "</style>\n",
       "<table border=\"1\" class=\"dataframe\">\n",
       "  <thead>\n",
       "    <tr style=\"text-align: right;\">\n",
       "      <th></th>\n",
       "      <th>id</th>\n",
       "      <th>ingredients</th>\n",
       "    </tr>\n",
       "  </thead>\n",
       "  <tbody>\n",
       "    <tr>\n",
       "      <th>0</th>\n",
       "      <td>137739</td>\n",
       "      <td>winter squash</td>\n",
       "    </tr>\n",
       "    <tr>\n",
       "      <th>1</th>\n",
       "      <td>137739</td>\n",
       "      <td>mexican seasoning</td>\n",
       "    </tr>\n",
       "    <tr>\n",
       "      <th>2</th>\n",
       "      <td>137739</td>\n",
       "      <td>mixed spice</td>\n",
       "    </tr>\n",
       "    <tr>\n",
       "      <th>3</th>\n",
       "      <td>137739</td>\n",
       "      <td>honey</td>\n",
       "    </tr>\n",
       "    <tr>\n",
       "      <th>4</th>\n",
       "      <td>137739</td>\n",
       "      <td>butter</td>\n",
       "    </tr>\n",
       "  </tbody>\n",
       "</table>\n",
       "</div>"
      ],
      "text/plain": [
       "       id        ingredients\n",
       "0  137739      winter squash\n",
       "1  137739  mexican seasoning\n",
       "2  137739        mixed spice\n",
       "3  137739              honey\n",
       "4  137739             butter"
      ]
     },
     "execution_count": 63,
     "metadata": {},
     "output_type": "execute_result"
    }
   ],
   "source": [
    "rec_splitted = recipes[['id', 'ingredients']]\n",
    "# Split the ingredients column into a list of ingredients\n",
    "rec_splitted['ingredients'] = rec_splitted['ingredients'].str.split(',')\n",
    "\n",
    "# Explode the ingredients column to create a new row for each ingredient\n",
    "rec_splitted = rec_splitted.explode('ingredients')\n",
    "rec_splitted = rec_splitted.reset_index(drop=True)\n",
    "#rec_splitted['ingredients'] = rec_splitted['ingredients'].str.split(',')\n",
    "rec_splitted['ingredients'] = rec_splitted['ingredients'].apply(lambda x: x.strip('[]').strip(\"''\"))\n",
    "rec_splitted['ingredients'] = rec_splitted['ingredients'].apply(lambda x: x.strip().strip(\"'\"))\n",
    "rec_splitted['ingredients'] = rec_splitted['ingredients'].apply(lambda x: x.strip().strip('\"'))\n",
    "\n",
    "\n",
    "rec_splitted.head()"
   ]
  },
  {
   "cell_type": "code",
   "execution_count": 66,
   "metadata": {},
   "outputs": [
    {
     "data": {
      "text/html": [
       "<div>\n",
       "<style scoped>\n",
       "    .dataframe tbody tr th:only-of-type {\n",
       "        vertical-align: middle;\n",
       "    }\n",
       "\n",
       "    .dataframe tbody tr th {\n",
       "        vertical-align: top;\n",
       "    }\n",
       "\n",
       "    .dataframe thead th {\n",
       "        text-align: right;\n",
       "    }\n",
       "</style>\n",
       "<table border=\"1\" class=\"dataframe\">\n",
       "  <thead>\n",
       "    <tr style=\"text-align: right;\">\n",
       "      <th></th>\n",
       "      <th>id</th>\n",
       "      <th>ID</th>\n",
       "    </tr>\n",
       "  </thead>\n",
       "  <tbody>\n",
       "    <tr>\n",
       "      <th>0</th>\n",
       "      <td>137739</td>\n",
       "      <td>1.0</td>\n",
       "    </tr>\n",
       "    <tr>\n",
       "      <th>1</th>\n",
       "      <td>137739</td>\n",
       "      <td>2.0</td>\n",
       "    </tr>\n",
       "    <tr>\n",
       "      <th>2</th>\n",
       "      <td>137739</td>\n",
       "      <td>3.0</td>\n",
       "    </tr>\n",
       "    <tr>\n",
       "      <th>3</th>\n",
       "      <td>137739</td>\n",
       "      <td>4.0</td>\n",
       "    </tr>\n",
       "    <tr>\n",
       "      <th>4</th>\n",
       "      <td>137739</td>\n",
       "      <td>5.0</td>\n",
       "    </tr>\n",
       "  </tbody>\n",
       "</table>\n",
       "</div>"
      ],
      "text/plain": [
       "       id   ID\n",
       "0  137739  1.0\n",
       "1  137739  2.0\n",
       "2  137739  3.0\n",
       "3  137739  4.0\n",
       "4  137739  5.0"
      ]
     },
     "execution_count": 66,
     "metadata": {},
     "output_type": "execute_result"
    }
   ],
   "source": [
    "# Merge dataframes based on 'ingredients' column\n",
    "merged_ingr = pd.merge(rec_splitted, ingr_df, how='left', left_on='ingredients', right_on='Ingredient')\n",
    "\n",
    "# Drop the duplicate 'Ingredient' column\n",
    "merged_ingr = merged_ingr.drop(columns=['Ingredient', 'ingredients'])\n",
    "merged_ingr.head()"
   ]
  },
  {
   "cell_type": "code",
   "execution_count": 35,
   "metadata": {},
   "outputs": [
    {
     "name": "stdout",
     "output_type": "stream",
     "text": [
      "             id ingredients  ID\n",
      "3        137739       honey   4\n",
      "70        67888       honey   4\n",
      "356       90921       honey   4\n",
      "369       93959       honey   4\n",
      "470      108414       honey   4\n",
      "...         ...         ...  ..\n",
      "2095117  461056       honey   4\n",
      "2095201  232200       honey   4\n",
      "2095687   70595       honey   4\n",
      "2095694  223293       honey   4\n",
      "2095901  149932       honey   4\n",
      "\n",
      "[11168 rows x 3 columns]\n"
     ]
    }
   ],
   "source": [
    "# Filter merged_df to only include rows with 'honey' in the 'ingredients' column\n",
    "honey_recipes = merged_ingr[merged_ingr['ingredients'].str.contains('honey', case=False)]\n",
    "\n",
    "# Print the filtered dataframe\n",
    "#print(honey_recipes)"
   ]
  },
  {
   "cell_type": "code",
   "execution_count": 67,
   "metadata": {},
   "outputs": [],
   "source": [
    "nutrition = recipes[['id','calories', 'total fat', 'sugar', 'sodium', 'protein', 'saturated fat', 'carbohydrates']]\n",
    "recipe_to_csv = recipes[['id', 'name', 'minutes', 'steps', 'n_steps', 'n_ingredients', 'rating', 'food types']]\n",
    "#ingr_df\n",
    "food_type = recipes['food types'].unique()\n",
    "food_type = pd.DataFrame(food_type)\n",
    "#food_type['food_types'] = rec_rating['food types']\n",
    "#merged_df\n"
   ]
  },
  {
   "cell_type": "code",
   "execution_count": 68,
   "metadata": {},
   "outputs": [
    {
     "data": {
      "text/html": [
       "<div>\n",
       "<style scoped>\n",
       "    .dataframe tbody tr th:only-of-type {\n",
       "        vertical-align: middle;\n",
       "    }\n",
       "\n",
       "    .dataframe tbody tr th {\n",
       "        vertical-align: top;\n",
       "    }\n",
       "\n",
       "    .dataframe thead th {\n",
       "        text-align: right;\n",
       "    }\n",
       "</style>\n",
       "<table border=\"1\" class=\"dataframe\">\n",
       "  <thead>\n",
       "    <tr style=\"text-align: right;\">\n",
       "      <th></th>\n",
       "      <th>id</th>\n",
       "      <th>name</th>\n",
       "      <th>minutes</th>\n",
       "      <th>steps</th>\n",
       "      <th>n_steps</th>\n",
       "      <th>n_ingredients</th>\n",
       "      <th>rating</th>\n",
       "      <th>food types</th>\n",
       "    </tr>\n",
       "  </thead>\n",
       "  <tbody>\n",
       "    <tr>\n",
       "      <th>0</th>\n",
       "      <td>137739</td>\n",
       "      <td>arriba   baked winter squash mexican style</td>\n",
       "      <td>55</td>\n",
       "      <td>1. make a choice and proceed with recipe 2. de...</td>\n",
       "      <td>11</td>\n",
       "      <td>7</td>\n",
       "      <td>5.0</td>\n",
       "      <td>Gluten-Free, Low-calories</td>\n",
       "    </tr>\n",
       "    <tr>\n",
       "      <th>1</th>\n",
       "      <td>31490</td>\n",
       "      <td>a bit different  breakfast pizza</td>\n",
       "      <td>30</td>\n",
       "      <td>1. preheat oven to 425 degrees f 2. press doug...</td>\n",
       "      <td>9</td>\n",
       "      <td>6</td>\n",
       "      <td>3.5</td>\n",
       "      <td>Gluten-Free, Low-calories</td>\n",
       "    </tr>\n",
       "    <tr>\n",
       "      <th>2</th>\n",
       "      <td>112140</td>\n",
       "      <td>all in the kitchen  chili</td>\n",
       "      <td>130</td>\n",
       "      <td>1. brown ground beef in large pot 2. add chopp...</td>\n",
       "      <td>6</td>\n",
       "      <td>13</td>\n",
       "      <td>4.0</td>\n",
       "      <td>Gluten-Free, Low-calories</td>\n",
       "    </tr>\n",
       "    <tr>\n",
       "      <th>3</th>\n",
       "      <td>59389</td>\n",
       "      <td>alouette  potatoes</td>\n",
       "      <td>45</td>\n",
       "      <td>1. place potatoes in a large pot of lightly sa...</td>\n",
       "      <td>11</td>\n",
       "      <td>11</td>\n",
       "      <td>4.5</td>\n",
       "      <td>Gluten-Free</td>\n",
       "    </tr>\n",
       "    <tr>\n",
       "      <th>4</th>\n",
       "      <td>44061</td>\n",
       "      <td>amish  tomato ketchup  for canning</td>\n",
       "      <td>190</td>\n",
       "      <td>1. mix all ingredients&amp; boil for 2 1  2 hours ...</td>\n",
       "      <td>5</td>\n",
       "      <td>8</td>\n",
       "      <td>5.0</td>\n",
       "      <td>Gluten-Free</td>\n",
       "    </tr>\n",
       "  </tbody>\n",
       "</table>\n",
       "</div>"
      ],
      "text/plain": [
       "       id                                        name  minutes  \\\n",
       "0  137739  arriba   baked winter squash mexican style       55   \n",
       "1   31490            a bit different  breakfast pizza       30   \n",
       "2  112140                   all in the kitchen  chili      130   \n",
       "3   59389                          alouette  potatoes       45   \n",
       "4   44061          amish  tomato ketchup  for canning      190   \n",
       "\n",
       "                                               steps  n_steps  n_ingredients  \\\n",
       "0  1. make a choice and proceed with recipe 2. de...       11              7   \n",
       "1  1. preheat oven to 425 degrees f 2. press doug...        9              6   \n",
       "2  1. brown ground beef in large pot 2. add chopp...        6             13   \n",
       "3  1. place potatoes in a large pot of lightly sa...       11             11   \n",
       "4  1. mix all ingredients& boil for 2 1  2 hours ...        5              8   \n",
       "\n",
       "   rating                 food types  \n",
       "0     5.0  Gluten-Free, Low-calories  \n",
       "1     3.5  Gluten-Free, Low-calories  \n",
       "2     4.0  Gluten-Free, Low-calories  \n",
       "3     4.5                Gluten-Free  \n",
       "4     5.0                Gluten-Free  "
      ]
     },
     "execution_count": 68,
     "metadata": {},
     "output_type": "execute_result"
    }
   ],
   "source": [
    "recipe_to_csv.head()"
   ]
  },
  {
   "cell_type": "code",
   "execution_count": 69,
   "metadata": {},
   "outputs": [
    {
     "data": {
      "text/html": [
       "<div>\n",
       "<style scoped>\n",
       "    .dataframe tbody tr th:only-of-type {\n",
       "        vertical-align: middle;\n",
       "    }\n",
       "\n",
       "    .dataframe tbody tr th {\n",
       "        vertical-align: top;\n",
       "    }\n",
       "\n",
       "    .dataframe thead th {\n",
       "        text-align: right;\n",
       "    }\n",
       "</style>\n",
       "<table border=\"1\" class=\"dataframe\">\n",
       "  <thead>\n",
       "    <tr style=\"text-align: right;\">\n",
       "      <th></th>\n",
       "      <th>food_type</th>\n",
       "      <th>id_food_type</th>\n",
       "    </tr>\n",
       "  </thead>\n",
       "  <tbody>\n",
       "    <tr>\n",
       "      <th>0</th>\n",
       "      <td>Gluten-Free, Low-calories</td>\n",
       "      <td>1</td>\n",
       "    </tr>\n",
       "    <tr>\n",
       "      <th>1</th>\n",
       "      <td>Gluten-Free</td>\n",
       "      <td>2</td>\n",
       "    </tr>\n",
       "    <tr>\n",
       "      <th>2</th>\n",
       "      <td>Veg dessert</td>\n",
       "      <td>3</td>\n",
       "    </tr>\n",
       "    <tr>\n",
       "      <th>3</th>\n",
       "      <td>Balanced</td>\n",
       "      <td>4</td>\n",
       "    </tr>\n",
       "    <tr>\n",
       "      <th>4</th>\n",
       "      <td>Low-calories</td>\n",
       "      <td>5</td>\n",
       "    </tr>\n",
       "  </tbody>\n",
       "</table>\n",
       "</div>"
      ],
      "text/plain": [
       "                   food_type  id_food_type\n",
       "0  Gluten-Free, Low-calories             1\n",
       "1                Gluten-Free             2\n",
       "2                Veg dessert             3\n",
       "3                   Balanced             4\n",
       "4               Low-calories             5"
      ]
     },
     "execution_count": 69,
     "metadata": {},
     "output_type": "execute_result"
    }
   ],
   "source": [
    "# rename the column using the rename() method\n",
    "food_type = food_type.rename(columns={0: 'food_type'})\n",
    "# Generate unique integer IDs for each row\n",
    "food_type['id_food_type'] = range(1, len(food_type) + 1)\n",
    "food_type.head()"
   ]
  },
  {
   "cell_type": "code",
   "execution_count": 59,
   "metadata": {},
   "outputs": [],
   "source": [
    "recipes_to_csv = pd.merge(recipe_to_csv, food_type, how='left', left_on='food types', right_on='food_type')"
   ]
  },
  {
   "cell_type": "code",
   "execution_count": 60,
   "metadata": {},
   "outputs": [],
   "source": [
    "recipes_to_csv=recipes_to_csv.drop(columns=['food types',\t'food_type'])"
   ]
  },
  {
   "cell_type": "code",
   "execution_count": 70,
   "metadata": {},
   "outputs": [
    {
     "name": "stdout",
     "output_type": "stream",
     "text": [
      "1 False\n"
     ]
    }
   ],
   "source": [
    "#searching for duplicates\n",
    "duplica_rec = merged_ingr.duplicated(keep=False)\n",
    "len(duplica_rec)\n",
    "\n",
    "for row in duplica_rec.keys():\n",
    "    if row == True:\n",
    "        print(row, duplica_rec[row])"
   ]
  },
  {
   "cell_type": "code",
   "execution_count": 71,
   "metadata": {},
   "outputs": [
    {
     "data": {
      "text/html": [
       "<div>\n",
       "<style scoped>\n",
       "    .dataframe tbody tr th:only-of-type {\n",
       "        vertical-align: middle;\n",
       "    }\n",
       "\n",
       "    .dataframe tbody tr th {\n",
       "        vertical-align: top;\n",
       "    }\n",
       "\n",
       "    .dataframe thead th {\n",
       "        text-align: right;\n",
       "    }\n",
       "</style>\n",
       "<table border=\"1\" class=\"dataframe\">\n",
       "  <thead>\n",
       "    <tr style=\"text-align: right;\">\n",
       "      <th></th>\n",
       "      <th>id</th>\n",
       "      <th>ID</th>\n",
       "    </tr>\n",
       "  </thead>\n",
       "  <tbody>\n",
       "    <tr>\n",
       "      <th>0</th>\n",
       "      <td>137739</td>\n",
       "      <td>1.0</td>\n",
       "    </tr>\n",
       "    <tr>\n",
       "      <th>1</th>\n",
       "      <td>137739</td>\n",
       "      <td>2.0</td>\n",
       "    </tr>\n",
       "    <tr>\n",
       "      <th>2</th>\n",
       "      <td>137739</td>\n",
       "      <td>3.0</td>\n",
       "    </tr>\n",
       "    <tr>\n",
       "      <th>3</th>\n",
       "      <td>137739</td>\n",
       "      <td>4.0</td>\n",
       "    </tr>\n",
       "    <tr>\n",
       "      <th>4</th>\n",
       "      <td>137739</td>\n",
       "      <td>5.0</td>\n",
       "    </tr>\n",
       "  </tbody>\n",
       "</table>\n",
       "</div>"
      ],
      "text/plain": [
       "       id   ID\n",
       "0  137739  1.0\n",
       "1  137739  2.0\n",
       "2  137739  3.0\n",
       "3  137739  4.0\n",
       "4  137739  5.0"
      ]
     },
     "execution_count": 71,
     "metadata": {},
     "output_type": "execute_result"
    }
   ],
   "source": [
    "merged_ingr.head()"
   ]
  },
  {
   "cell_type": "code",
   "execution_count": 73,
   "metadata": {},
   "outputs": [],
   "source": [
    "nutrition.to_csv('csv_for_mySQL/nutrition.csv', index=False)\n",
    "recipe_to_csv.to_csv('csv_for_mySQL/recipe.csv', index = False)\n",
    "ingr_df.to_csv('csv_for_mySQL/unique_ingr.csv', index=False)\n",
    "food_type.to_csv('csv_for_mySQL/food_types.csv', index=False)\n",
    "merged_ingr.to_csv('csv_for_mySQL/recipe_ingredient.csv', index = False)"
   ]
  },
  {
   "cell_type": "code",
   "execution_count": 133,
   "metadata": {},
   "outputs": [
    {
     "data": {
      "text/html": [
       "<div>\n",
       "<style scoped>\n",
       "    .dataframe tbody tr th:only-of-type {\n",
       "        vertical-align: middle;\n",
       "    }\n",
       "\n",
       "    .dataframe tbody tr th {\n",
       "        vertical-align: top;\n",
       "    }\n",
       "\n",
       "    .dataframe thead th {\n",
       "        text-align: right;\n",
       "    }\n",
       "</style>\n",
       "<table border=\"1\" class=\"dataframe\">\n",
       "  <thead>\n",
       "    <tr style=\"text-align: right;\">\n",
       "      <th></th>\n",
       "      <th>recipe_id</th>\n",
       "      <th>ingredient_id</th>\n",
       "    </tr>\n",
       "  </thead>\n",
       "  <tbody>\n",
       "    <tr>\n",
       "      <th>0</th>\n",
       "      <td>137739</td>\n",
       "      <td>1.0</td>\n",
       "    </tr>\n",
       "    <tr>\n",
       "      <th>1</th>\n",
       "      <td>137739</td>\n",
       "      <td>2.0</td>\n",
       "    </tr>\n",
       "    <tr>\n",
       "      <th>2</th>\n",
       "      <td>137739</td>\n",
       "      <td>3.0</td>\n",
       "    </tr>\n",
       "    <tr>\n",
       "      <th>3</th>\n",
       "      <td>137739</td>\n",
       "      <td>4.0</td>\n",
       "    </tr>\n",
       "    <tr>\n",
       "      <th>4</th>\n",
       "      <td>137739</td>\n",
       "      <td>5.0</td>\n",
       "    </tr>\n",
       "  </tbody>\n",
       "</table>\n",
       "</div>"
      ],
      "text/plain": [
       "  recipe_id  ingredient_id\n",
       "0    137739            1.0\n",
       "1    137739            2.0\n",
       "2    137739            3.0\n",
       "3    137739            4.0\n",
       "4    137739            5.0"
      ]
     },
     "execution_count": 133,
     "metadata": {},
     "output_type": "execute_result"
    }
   ],
   "source": [
    "merged_ingr.head()"
   ]
  },
  {
   "cell_type": "code",
   "execution_count": 72,
   "metadata": {},
   "outputs": [],
   "source": [
    "#column renaming\n",
    "merged_ingr=merged_ingr.rename(columns={'id':'recipe_id', 'ID':'ingredient_id'})\n",
    "nutrition=nutrition.rename(columns={'id':'recipe_id', 'total fat':'total_fat', 'saturated fat':'saturated_fat'})\n",
    "recipes_to_csv = recipes_to_csv.rename(columns={'id':'recipe_id', 'name':'recipe_name'})\n",
    "ingr_df=ingr_df.rename(columns={'ID':'ingredient_id', 'Ingredient':'ingredient_name'})"
   ]
  },
  {
   "cell_type": "code",
   "execution_count": 83,
   "metadata": {},
   "outputs": [],
   "source": [
    "import pymysql.cursors\n",
    "from sqlalchemy import create_engine, MetaData\n",
    "from sqlalchemy.schema import CreateTable\n",
    "from sqlalchemy import text"
   ]
  },
  {
   "cell_type": "code",
   "execution_count": 85,
   "metadata": {},
   "outputs": [],
   "source": [
    "#prompt user to enter MySQL root password\n",
    "import getpass\n",
    "\n",
    "sql_pass = getpass.getpass()\n",
    "#create connection tring and angine to connect to MySQL database\n",
    "connection_string = 'mysql+pymysql://root:' + sql_pass + '@localhost:3306/recipes_recomm'\n",
    "engine = create_engine(connection_string)"
   ]
  },
  {
   "cell_type": "code",
   "execution_count": 135,
   "metadata": {},
   "outputs": [
    {
     "data": {
      "text/plain": [
       "13"
      ]
     },
     "execution_count": 135,
     "metadata": {},
     "output_type": "execute_result"
    }
   ],
   "source": [
    "# export the tables to MySQL\n",
    "merged_ingr.to_sql('recipes_ingredients',engine, 'recipes_recomm', if_exists='replace', index=False)\n",
    "nutrition.to_sql('recipe_nutrition',engine, 'recipes_recomm', if_exists='replace', index=False)\n",
    "recipes_to_csv.to_sql('recipe_main',engine, 'recipes_recomm', if_exists='replace', index=False)\n",
    "ingr_df.to_sql('ingredients_unique',engine, 'recipes_recomm', if_exists='replace', index=False)\n",
    "food_type.to_sql('food_class',engine, 'recipes_recomm', if_exists='replace', index=False)"
   ]
  },
  {
   "cell_type": "code",
   "execution_count": 86,
   "metadata": {},
   "outputs": [],
   "source": [
    "# Create metadata object\n",
    "metadata = MetaData()\n",
    "\n",
    "# Reflect database schema into metadata\n",
    "metadata.reflect(bind=engine)\n",
    "\n",
    "# Extract SQL script for each table and write to file\n",
    "with open('database_script.sql', 'w') as f:\n",
    "    for table_name, table in metadata.tables.items():\n",
    "        create_table = CreateTable(table)\n",
    "        f.write(str(create_table.compile(engine)) + ';\\n\\n')"
   ]
  },
  {
   "attachments": {},
   "cell_type": "markdown",
   "metadata": {},
   "source": [
    "### 14. EDA"
   ]
  },
  {
   "cell_type": "code",
   "execution_count": 138,
   "metadata": {},
   "outputs": [
    {
     "data": {
      "image/png": "[encoded data removed]",
      "text/plain": [
       "<Figure size 640x480 with 1 Axes>"
      ]
     },
     "metadata": {},
     "output_type": "display_data"
    }
   ],
   "source": [
    "recipes.plot(kind='scatter', x='calories', y='total fat')\n",
    "plt.title('Scatterplot of calories vs minutes')\n",
    "plt.show()"
   ]
  },
  {
   "cell_type": "code",
   "execution_count": 126,
   "metadata": {},
   "outputs": [
    {
     "data": {
      "image/png": "[encoded data removed]",
      "text/plain": [
       "<Figure size 594.736x500 with 1 Axes>"
      ]
     },
     "metadata": {},
     "output_type": "display_data"
    }
   ],
   "source": [
    "import seaborn as sns\n",
    "sns.set_style('whitegrid')\n",
    "sns.FacetGrid(recipes, hue='n_ingredients', height = 5).map(plt.scatter, 'calories', 'sugar').add_legend()\n",
    "plt.title('Scatterplot using seasborn of calories vs sugar')\n",
    "plt.show()"
   ]
  },
  {
   "cell_type": "code",
   "execution_count": 132,
   "metadata": {},
   "outputs": [
    {
     "data": {
      "image/png": "[encoded data removed]",
      "text/plain": [
       "<Figure size 640x480 with 1 Axes>"
      ]
     },
     "metadata": {},
     "output_type": "display_data"
    }
   ],
   "source": [
    "plt.hist(recipes.calories[recipes['food types']=='Gluten-Free'], label='Gluten-Free', density=True, alpha=.5)\n",
    "plt.hist(recipes.calories[recipes['food types']=='Balanced'], label='Balanced', density=True, alpha=.5)\n",
    "plt.hist(recipes.calories[recipes['food types']=='Veg'], label='Veg', density=True, alpha=.5)\n",
    "plt.legend()\n",
    "plt.show()"
   ]
  }
 ],
 "metadata": {
  "kernelspec": {
   "display_name": "base",
   "language": "python",
   "name": "python3"
  },
  "language_info": {
   "codemirror_mode": {
    "name": "ipython",
    "version": 3
   },
   "file_extension": ".py",
   "mimetype": "text/x-python",
   "name": "python",
   "nbconvert_exporter": "python",
   "pygments_lexer": "ipython3",
   "version": "3.9.13"
  },
  "orig_nbformat": 4
 },
 "nbformat": 4,
 "nbformat_minor": 2
}
